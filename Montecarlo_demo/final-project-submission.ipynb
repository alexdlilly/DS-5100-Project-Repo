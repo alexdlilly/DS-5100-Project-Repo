{
 "cells": [
  {
   "cell_type": "markdown",
   "metadata": {},
   "source": [
    "# Metadata\n",
    "Title: Final Project for DS5100 2022  \n",
    "Date: November 22, 2022  \n",
    "Name: Alexander Lilly  \n",
    "Student ID: kzr3fb  \n",
    "Notebook GitHub URL: https://github.com/alexdlilly/DS-5100-Project-Repo/blob/main/final-project-submission.ipynb  \n",
    "All Files GitHub URL: https://github.com/alexdlilly/DS-5100-Project-Repo  "
   ]
  },
  {
   "cell_type": "markdown",
   "metadata": {},
   "source": [
    "# The Monte Carlo Module"
   ]
  },
  {
   "cell_type": "code",
   "execution_count": 1,
   "metadata": {},
   "outputs": [],
   "source": [
    "import numpy as np\n",
    "import pandas as pd\n",
    "class Die:\n",
    "    \"\"\" INITIALIZATION\n",
    "        INPUTS: \n",
    "            faces = a list of possible outcomes for a given random event. For example, for a 6-sided die, faces would \n",
    "                    be a list of length 6 where each element represents a face of the dice. By default, the Die class\n",
    "                    assumes equal probabilistic weights for each possible outcome. \n",
    "        ATTRIBUTES:\n",
    "            Die.faces = a list of possible outcomes associated with the Die object. \n",
    "            Die.results = Accesible only after the roll() method has been executed, Die.results returns a dataframe with \n",
    "                    the roll number as the index and the value as the outcome of the rolled die. \n",
    "        METHODS:\n",
    "            change_weight(face, new weight): To alter the default equal weight among die faces, pass the face you wish \n",
    "            the change the weight of and the weight to which to change it to the change_weight() method. \n",
    "            roll(num_rolls): Rolls the die num_rolls times. Stores results of each roll in .results as a dataframe. \n",
    "            show_weights(): Returns a dataframe of the die faces and their corresponding weights.  \n",
    "    \"\"\"\n",
    "    def __init__(self, faces):\n",
    "        self.faces = faces\n",
    "        self._weight = np.ones(len(faces))\n",
    "        self._faces_weight = pd.DataFrame({'Faces':self.faces,'Weights':self._weight})\n",
    "    \n",
    "    def change_weight(self, face, new_weight):\n",
    "        \"\"\"change_weight(face, new weight): To alter the default equal weight among die faces, pass the face you wish \n",
    "            the change the weight of and the weight to which to change it to the change_weight() method. \"\"\"\n",
    "        if face in self.faces:\n",
    "            if isinstance(new_weight,float):\n",
    "                self._faces_weight.loc[self._faces_weight[\"Faces\"] == face, \"Weights\"] = new_weight\n",
    "            else:\n",
    "                try:\n",
    "                    float(new_weight)\n",
    "                    self._faces_weight.loc[self._faces_weight[\"Faces\"] == face, \"Weights\"] = new_weight\n",
    "                except:\n",
    "                    raise Exception('New weight must be float or convertable to float!')\n",
    "\n",
    "        else:\n",
    "            raise Exception('Face is not in list of faces') \n",
    "    \n",
    "    def roll(self,num_rolls=1):\n",
    "        \"\"\"Rolls the die num_rolls times using np.random.choice. Stores results of each roll in .results as a dataframe. \"\"\"\n",
    "        self._faces_weight['Probability'] = self._faces_weight['Weights']/self._faces_weight['Weights'].sum()\n",
    "        outcomes = np.random.choice(self._faces_weight['Faces'],size=num_rolls, p=self._faces_weight['Probability'])\n",
    "        self.results = pd.DataFrame({'Results':outcomes})\n",
    "        self.results.index.name = 'Roll'\n",
    "\n",
    "    def show_weights(self):\n",
    "        \"\"\"Returns a dataframe of the die faces and their corresponding weights.\"\"\"\n",
    "        return self._faces_weight[['Faces','Weights']]\n",
    "\n",
    "class Game():\n",
    "    \"\"\" INITIALIZATION\n",
    "        INPUTS: \n",
    "            dies: a list of die objects created by the Die class. Each die object must have the same faces, although each die \n",
    "                object can have different weights associated with the die faces. \n",
    "        ATTRIBUTES:\n",
    "            Game.dies: a list of die objects passed through the Game initialization method. \n",
    "        METHODS:\n",
    "            Game.play(N): Rolls each die object N times, stores results in a dataframe Game._results. \n",
    "            Game.show(form='Wide'): form = 'Wide' (default) or form = 'Narrow'. If form = 'Wide', Game.show() returns \n",
    "                the Game._results dataframe. If form = 'Narrow', Game.show() returns a multi-index array where the roll \n",
    "                number and die ID are the indices, and the value are the outcomes of the associates roll number and die ID. \n",
    "    \"\"\"\n",
    "    def __init__(self, dies):\n",
    "        if isinstance(dies,list):\n",
    "            self.dies = dies\n",
    "        else:\n",
    "            raise Exception('Dies object must be passed as a list!')\n",
    "        \n",
    "    def play(self, N):\n",
    "        \"\"\"Rolls each die object N times, stores results in a dataframe Game._results. \"\"\"\n",
    "        self._results = pd.DataFrame()\n",
    "        i = 1\n",
    "        for die in self.dies:\n",
    "            die.roll(num_rolls = N)\n",
    "            self._results[f\"Die #{i}\"] = die.results['Results'] \n",
    "            i += 1\n",
    "\n",
    "    def show(self,form='Wide'):\n",
    "        \"\"\"form = 'Wide' (default) or form = 'Narrow'. If form = 'Wide', Game.show() returns \n",
    "                the Game._results dataframe. If form = 'Narrow', Game.show() returns a multi-index array where the roll \n",
    "                number and die ID are the indices, and the value are the outcomes of the associates roll number and die ID. \"\"\"\n",
    "        if form == 'Wide':\n",
    "            return self._results\n",
    "        elif form == 'Narrow':\n",
    "            self._results['Roll'] = self._results.index\n",
    "            narrow = pd.wide_to_long(self._results, stubnames = 'Die #',i=[\"Roll\"],j='Die')\n",
    "            narrow = narrow.rename(columns={'Die #':'Result'})\n",
    "            return narrow\n",
    "\n",
    "class Analyzer():\n",
    "    \"\"\" INITIALIZATION\n",
    "        INPUTS: \n",
    "            game: the game object generated by the Game class. \n",
    "        ATTRIBUTES:\n",
    "            Analyzer.game: the game object passed through the Analyzer initialization method. \n",
    "            Analyzer.face_counts: Accessible after executing the face_counts_per_roll() method. Analyzer.face_counts is a dataframe\n",
    "                where each row corresponds to a roll event, and each column is a face of the die object. The values of this dataframe\n",
    "                correspond to the number of times a given face was rolled in a given roll event. \n",
    "            Analyzer.num_jackpots: The number of times all dice rolled the same face. \n",
    "            Analyzer.combo: A multi-index dataframe where the indices are different combinations of rolled faces, and the values correspond\n",
    "                to the number of times those faces were rolled. This dataframe is sorted in descending order, so combinations with the highest\n",
    "                frequency of occurrence are at the top.  \n",
    "        METHODS:\n",
    "            Analyzer.face_counts_per_roll(): Counts the number of each possible face that was rolled for each roll event. Returns the dataframe\n",
    "                .face_counts. \n",
    "            Analyzer.jackpot(): Counts the number of times all dice rolled the same face. Returns the integer .num_jackpots.\n",
    "            Analyzer.Combo(): Counts the frequency of a given combination of rolled faces, sorted in descending order based on frequency. \n",
    "                Returns the dataframe .combo. \n",
    "\n",
    "    \"\"\"\n",
    "    def __init__(self, game):\n",
    "        self.game = game\n",
    "    \n",
    "    def face_counts_per_roll(self):\n",
    "        \"\"\"Counts the number of each possible face that was rolled for each roll event using pd.get_dummies. Returns the dataframe .face_counts. \"\"\"\n",
    "        face_counts = self.game.show(form='Narrow')\n",
    "        face_counts = pd.get_dummies(face_counts.Result)\n",
    "        self.face_counts = face_counts.groupby(['Roll']).sum()\n",
    "        return self.face_counts\n",
    "\n",
    "    def jackpot(self):\n",
    "        \"\"\"Counts the number of times all dice rolled the same face. Returns the integer .num_jackpots.\"\"\"\n",
    "        self.face_counts_per_roll()\n",
    "        jackpotdf = self.face_counts.apply(lambda x: np.count_nonzero(x, axis=0),axis=1)\n",
    "        self.jackpotdf = jackpotdf.loc[jackpotdf == 1]\n",
    "        num_jackpots = len(self.jackpotdf)\n",
    "        return num_jackpots\n",
    "    \n",
    "    def Combo(self):\n",
    "        \"\"\"Counts the frequency of a given combination of rolled faces, sorted in descending order based on frequency. Returns the dataframe .combo. \"\"\"\n",
    "        self.face_counts_per_roll()\n",
    "        self.combo = pd.pivot_table(self.game.show(), index=self.game.show().columns.to_list()[:-1],aggfunc=np.count_nonzero)\n",
    "        self.combo = self.combo.rename(columns = {'Roll':'Count'})\n",
    "        self.combo = self.combo.sort_values(by='Count',ascending=False)"
   ]
  },
  {
   "cell_type": "markdown",
   "metadata": {},
   "source": [
    "# Test Module"
   ]
  },
  {
   "cell_type": "code",
   "execution_count": 2,
   "metadata": {},
   "outputs": [],
   "source": [
    "from montecarlo import Die, Game, Analyzer\n",
    "import unittest\n",
    "\n",
    "class MontecarloTestSuite(unittest.TestCase):\n",
    "\n",
    "    def test_change_weight(self):\n",
    "        # Test that the change_weight() method of the Die class correctly changes the weight of the assigned face. \n",
    "        faces = [1,2,3,4]\n",
    "        dice = Die(faces)\n",
    "        dice.change_weight(3,2)\n",
    "        df_faces_weights = dice.show_weights()\n",
    "        assert df_faces_weights['Weights'][2] == 2\n",
    "\n",
    "    def test_roll(self):\n",
    "        # Test that the roll() method of the Die class generates a dataframe object with length N for number of rolls. \n",
    "        faces = [1,2,3,4]\n",
    "        dice = Die(faces)\n",
    "        dice.roll(num_rolls=10)\n",
    "        assert len(dice.results) == 10\n",
    "\n",
    "    def test_play(self):\n",
    "        # Test that the play() method of the Game class generates a dataframe object with length N for number of rolls. \n",
    "        faces = [1,2,3,4]\n",
    "        dice = Die(faces)\n",
    "        game = Game([dice])\n",
    "        game.play(10)\n",
    "        assert len(game._results) == 10\n",
    "\n",
    "    def test_show_wide(self):\n",
    "        # Test that the show() method of the Game class generates a wide form dataframe object with length N for number of rolls and width W for number of dice. \n",
    "        faces = [1,2,3,4]\n",
    "        dice = Die(faces)\n",
    "        game = Game([dice,dice,dice])\n",
    "        game.play(10)\n",
    "        df = game.show()\n",
    "        assert (df.shape[0] == 10 and df.shape[1]==3)     \n",
    "\n",
    "    def test_show_narrow(self):\n",
    "        # Test that the show() method of the Game class generates a narrow form dataframe object with length N x W for number of rolls N and number of dice W. \n",
    "        faces = [1,2,3,4]\n",
    "        dice = Die(faces)\n",
    "        game = Game([dice,dice,dice])\n",
    "        game.play(10)\n",
    "        df = game.show(form='Narrow')\n",
    "        assert (len(df) == 30)\n",
    "\n",
    "    def test_face_counts_per_roll(self):\n",
    "        # Tests that the face_counts_per_roll() method of the Analyzer class produces a dataframe of size N x F for number of rolls N and number of faces F, and has an internal sum of values (face counts) equal to N x W for N number of rolls and W number of dice. \n",
    "        faces = [1,2,3,4,5]\n",
    "        dice = Die(faces)\n",
    "        game = Game([dice,dice,dice])\n",
    "        game.play(20)\n",
    "        Analysis=Analyzer(game)\n",
    "        df = Analysis.face_counts_per_roll()\n",
    "        shape = df.shape\n",
    "        internal_sum = df.sum().sum()\n",
    "        assert (shape[0]==20 and shape[1]==5 and internal_sum==60)\n",
    "\n",
    "    def test_jackpot(self):\n",
    "        # Tests that the jackpot() method of the Analyzer class returns an integer. \n",
    "        faces = [1,2,3,4,5]\n",
    "        dice = Die(faces)\n",
    "        game = Game([dice,dice,dice])\n",
    "        game.play(20)\n",
    "        Analysis=Analyzer(game)\n",
    "        assert isinstance(Analysis.jackpot(),int) == True\n",
    "\n",
    "    def test_combo(self):\n",
    "        # Tests that the combo() method of the Analyzer class returns a dataframe of only 1 column with a sum of combinations equal to the number of rolls minus 1. \n",
    "        faces = [1,2,3,4,5,6]\n",
    "        dice = Die(faces)\n",
    "        game = Game([dice,dice,dice,dice,dice])\n",
    "        game.play(1000)\n",
    "        Analysis=Analyzer(game)\n",
    "        Analysis.Combo()\n",
    "        assert(Analysis.combo.shape[1]==1 and Analysis.combo['Count'].sum()==999)\n",
    "                   \n"
   ]
  },
  {
   "cell_type": "markdown",
   "metadata": {},
   "source": [
    "# Test Results"
   ]
  },
  {
   "cell_type": "code",
   "execution_count": 3,
   "metadata": {},
   "outputs": [
    {
     "name": "stderr",
     "output_type": "stream",
     "text": [
      "test_change_weight (__main__.MontecarloTestSuite) ... ok\n",
      "test_combo (__main__.MontecarloTestSuite) ... ok\n",
      "test_face_counts_per_roll (__main__.MontecarloTestSuite) ... ok\n",
      "test_jackpot (__main__.MontecarloTestSuite) ... ok\n",
      "test_play (__main__.MontecarloTestSuite) ... ok\n",
      "test_roll (__main__.MontecarloTestSuite) ... ok\n",
      "test_show_narrow (__main__.MontecarloTestSuite) ... ok\n",
      "test_show_wide (__main__.MontecarloTestSuite) ... ok\n",
      "\n",
      "----------------------------------------------------------------------\n",
      "Ran 8 tests in 0.067s\n",
      "\n",
      "OK\n"
     ]
    },
    {
     "data": {
      "text/plain": [
       "<unittest.main.TestProgram at 0x23290d326a0>"
      ]
     },
     "execution_count": 3,
     "metadata": {},
     "output_type": "execute_result"
    }
   ],
   "source": [
    "unittest.main(argv=[''], verbosity=2, exit=False)"
   ]
  },
  {
   "cell_type": "markdown",
   "metadata": {},
   "source": [
    "# Scenarios"
   ]
  },
  {
   "cell_type": "markdown",
   "metadata": {},
   "source": [
    "## Scenario 1: 2-headed Coin"
   ]
  },
  {
   "cell_type": "code",
   "execution_count": 4,
   "metadata": {},
   "outputs": [],
   "source": [
    "from montecarlo import Die, Game, Analyzer"
   ]
  },
  {
   "cell_type": "code",
   "execution_count": 5,
   "metadata": {},
   "outputs": [],
   "source": [
    "Faces = ['H','T']\n",
    "Fair = Die(Faces)\n",
    "Unfair = Die(Faces)\n",
    "Unfair.change_weight('H',5)"
   ]
  },
  {
   "cell_type": "markdown",
   "metadata": {},
   "source": [
    "Play a game of 1,000 flips with three coins with all fair dice. "
   ]
  },
  {
   "cell_type": "code",
   "execution_count": 6,
   "metadata": {},
   "outputs": [
    {
     "name": "stdout",
     "output_type": "stream",
     "text": [
      "0.24\n"
     ]
    }
   ],
   "source": [
    "Game = Game([Fair,Fair,Fair])\n",
    "Game.play(1000)\n",
    "Analysis = Analyzer(Game)\n",
    "Fair_Jackpot = Analysis.jackpot()/1000\n",
    "print(Fair_Jackpot)"
   ]
  },
  {
   "cell_type": "markdown",
   "metadata": {},
   "source": [
    "Play a game of 1,000 flips with three coins with two unfair dice and one fair die"
   ]
  },
  {
   "cell_type": "code",
   "execution_count": 7,
   "metadata": {},
   "outputs": [
    {
     "name": "stdout",
     "output_type": "stream",
     "text": [
      "0.332\n"
     ]
    }
   ],
   "source": [
    "from montecarlo import Game\n",
    "Unfair_Game = Game([Unfair,Fair,Unfair])\n",
    "Unfair_Game.play(1000)\n",
    "Analysis = Analyzer(Unfair_Game)\n",
    "Unfair_Jackpot = Analysis.jackpot()/1000\n",
    "print(Unfair_Jackpot)"
   ]
  },
  {
   "cell_type": "code",
   "execution_count": 8,
   "metadata": {},
   "outputs": [
    {
     "data": {
      "image/png": "[encoded data removed]",
      "text/plain": [
       "<Figure size 936x576 with 1 Axes>"
      ]
     },
     "metadata": {
      "needs_background": "light"
     },
     "output_type": "display_data"
    }
   ],
   "source": [
    "import matplotlib.pyplot as plt\n",
    "plt.figure(figsize=(13,8))\n",
    "plt.bar(['3 Fair Die','2 Unfair Die, 1 Fair Dice'],[Fair_Jackpot, Unfair_Jackpot],color='gray',edgecolor='black')\n",
    "plt.ylabel('Relative Frequency of Jackpots')\n",
    "plt.title('The Impact of Unfair 2-sided Die on Relative Frequency of Jackpots',loc='left')\n",
    "plt.show()"
   ]
  },
  {
   "cell_type": "markdown",
   "metadata": {},
   "source": [
    "## Scenario 2: 6-sided Die"
   ]
  },
  {
   "cell_type": "code",
   "execution_count": 9,
   "metadata": {},
   "outputs": [],
   "source": [
    "from montecarlo import Die, Game, Analyzer"
   ]
  },
  {
   "cell_type": "code",
   "execution_count": 10,
   "metadata": {},
   "outputs": [],
   "source": [
    "Faces = [1,2,3,4,5,6]\n",
    "Die1 = Die(Faces)\n",
    "Die1.change_weight(6,5)\n",
    "Die2 = Die(Faces)\n",
    "Die2.change_weight(1,5)\n",
    "Die = Die(Faces)"
   ]
  },
  {
   "cell_type": "code",
   "execution_count": 11,
   "metadata": {},
   "outputs": [],
   "source": [
    "Fair_Game = Game([Die, Die, Die, Die, Die])\n",
    "Fair_Game.play(10000)\n",
    "Analysis = Analyzer(Fair_Game)\n",
    "Fair_Jackpots = Analysis.jackpot()/10000\n",
    "Analysis.Combo()\n",
    "Fair_Combo = Analysis.combo[:10]"
   ]
  },
  {
   "cell_type": "code",
   "execution_count": 12,
   "metadata": {},
   "outputs": [],
   "source": [
    "from montecarlo import Game\n",
    "Unfair_Game = Game([Die1,Die1,Die2,Die,Die])\n",
    "Unfair_Game.play(10000)\n",
    "Analysis = Analyzer(Unfair_Game)\n",
    "Unfair_Jackpots = Analysis.jackpot()/10000\n",
    "Analysis.Combo()\n",
    "Unfair_Combo = Analysis.combo[:10]\n"
   ]
  },
  {
   "cell_type": "code",
   "execution_count": 13,
   "metadata": {},
   "outputs": [
    {
     "data": {
      "image/png": "[encoded data removed]",
      "text/plain": [
       "<Figure size 936x576 with 1 Axes>"
      ]
     },
     "metadata": {
      "needs_background": "light"
     },
     "output_type": "display_data"
    }
   ],
   "source": [
    "import matplotlib.pyplot as plt\n",
    "plt.figure(figsize=(13,8))\n",
    "plt.bar(['All Fair Die','2 Type 1, 1 Type 2, 2 Fair Dice'],[Fair_Jackpots, Unfair_Jackpots],color='gray',edgecolor='black')\n",
    "plt.ylabel('Relative Frequency of Jackpots')\n",
    "plt.title('The Impact of Unfair 6-sided Die on Relative Frequency of Jackpots',loc='left')\n",
    "plt.show()\n"
   ]
  },
  {
   "cell_type": "markdown",
   "metadata": {},
   "source": [
    "## Scenario 3: Roman Alphabet"
   ]
  },
  {
   "cell_type": "code",
   "execution_count": 14,
   "metadata": {},
   "outputs": [],
   "source": [
    "import pandas as pd\n",
    "import numpy as np\n",
    "from montecarlo import Die, Game, Analyzer\n",
    "\n",
    "Alphabet = pd.read_csv('roman_alphabet.txt',delimiter='\\t',header=None,names=['Letter','Weight'])\n",
    "Alphabet['Letter'] = Alphabet['Letter'].astype('str')"
   ]
  },
  {
   "cell_type": "code",
   "execution_count": 15,
   "metadata": {},
   "outputs": [],
   "source": [
    "Die = Die(Alphabet['Letter'].tolist())\n",
    "\n",
    "for i in range(len(Alphabet)):\n",
    "    Die.change_weight(Alphabet['Letter'].iloc[i], Alphabet['Weight'].iloc[i])"
   ]
  },
  {
   "cell_type": "code",
   "execution_count": 16,
   "metadata": {},
   "outputs": [],
   "source": [
    "Game = Game([Die, Die, Die, Die, Die])\n",
    "Result_list = []\n",
    "for i in range(10):\n",
    "    rand_list = np.random.randint(1000,size=10)\n",
    "    Game.play(1000)\n",
    "    Result_list.append(Game.show().iloc[rand_list])\n",
    "    "
   ]
  },
  {
   "cell_type": "code",
   "execution_count": 17,
   "metadata": {},
   "outputs": [
    {
     "data": {
      "text/plain": [
       "[     Die #1 Die #2 Die #3 Die #4 Die #5\n",
       " Roll                                   \n",
       " 469       N      I      S      U      W\n",
       " 547       W      H      O      R      M\n",
       " 294       C      S      R      Y      I\n",
       " 338       F      D      O      M      I\n",
       " 864       K      M      A      A      A\n",
       " 526       Y      C      N      S      S\n",
       " 562       O      I      S      O      S\n",
       " 605       M      T      G      B      S\n",
       " 732       A      E      N      C      H\n",
       " 307       L      I      U      R      W,\n",
       "      Die #1 Die #2 Die #3 Die #4 Die #5\n",
       " Roll                                   \n",
       " 244       L      N      A      T      Z\n",
       " 89        E      E      C      A      S\n",
       " 161       C      H      I      O      I\n",
       " 158       L      M      A      I      L\n",
       " 573       E      C      G      U      S\n",
       " 187       E      H      R      L      Y\n",
       " 650       E      R      F      R      R\n",
       " 368       R      A      H      V      L\n",
       " 695       E      O      T      Q      A\n",
       " 471       H      O      I      R      Z,\n",
       "      Die #1 Die #2 Die #3 Die #4 Die #5\n",
       " Roll                                   \n",
       " 125       J      F      A      N      R\n",
       " 419       L      A      R      O      T\n",
       " 429       E      I      P      G      H\n",
       " 793       M      P      E      P      O\n",
       " 410       R      R      R      A      M\n",
       " 512       B      F      B      O      B\n",
       " 588       R      E      T      E      P\n",
       " 583       A      L      E      A      A\n",
       " 506       C      C      E      S      C\n",
       " 184       C      D      T      E      M,\n",
       "      Die #1 Die #2 Die #3 Die #4 Die #5\n",
       " Roll                                   \n",
       " 966       E      D      S      C      I\n",
       " 706       N      A      I      Y      D\n",
       " 167       D      H      R      G      S\n",
       " 284       A      P      O      L      L\n",
       " 417       E      G      G      C      E\n",
       " 533       T      R      D      T      T\n",
       " 934       R      T      L      S      R\n",
       " 252       O      A      E      D      R\n",
       " 15        W      W      C      C      I\n",
       " 182       I      C      A      N      I,\n",
       "      Die #1 Die #2 Die #3 Die #4 Die #5\n",
       " Roll                                   \n",
       " 178       G      A      N      R      N\n",
       " 442       T      M      B      A      N\n",
       " 428       H      B      K      U      E\n",
       " 800       E      S      Y      L      R\n",
       " 182       N      U      A      E      L\n",
       " 757       K      T      W      R      O\n",
       " 246       L      E      U      D      Z\n",
       " 522       M      I      P      I      E\n",
       " 366       E      A      T      P      C\n",
       " 607       T      P      R      E      I,\n",
       "      Die #1 Die #2 Die #3 Die #4 Die #5\n",
       " Roll                                   \n",
       " 926       E      O      E      P      D\n",
       " 214       U      I      C      G      F\n",
       " 816       E      A      K      T      N\n",
       " 748       R      A      N      N      C\n",
       " 145       Y      D      L      O      I\n",
       " 169       G      T      I      E      H\n",
       " 724       R      L      K      G      N\n",
       " 996       N      D      A      K      B\n",
       " 769       G      U      E      Y      F\n",
       " 585       Y      J      E      I      C,\n",
       "      Die #1 Die #2 Die #3 Die #4 Die #5\n",
       " Roll                                   \n",
       " 806       R      L      B      U      U\n",
       " 918       A      J      M      S      Y\n",
       " 264       Y      I      X      I      G\n",
       " 245       F      T      K      S      T\n",
       " 133       E      B      A      B      N\n",
       " 752       S      R      E      B      S\n",
       " 24        H      L      R      V      Y\n",
       " 10        L      T      E      E      F\n",
       " 727       A      L      R      S      E\n",
       " 646       D      P      M      E      B,\n",
       "      Die #1 Die #2 Die #3 Die #4 Die #5\n",
       " Roll                                   \n",
       " 546       T      P      N      U      I\n",
       " 659       S      R      S      T      A\n",
       " 316       V      A      E      R      O\n",
       " 374       A      P      O      N      I\n",
       " 515       S      H      A      R      U\n",
       " 368       S      W      K      C      E\n",
       " 798       A      I      D      T      T\n",
       " 211       K      Y      M      F      A\n",
       " 774       E      E      S      T      P\n",
       " 808       Y      N      R      R      D,\n",
       "      Die #1 Die #2 Die #3 Die #4 Die #5\n",
       " Roll                                   \n",
       " 120       R      A      Z      C      E\n",
       " 225       V      S      I      T      L\n",
       " 629       H      E      Z      I      E\n",
       " 361       T      I      C      I      O\n",
       " 979       K      O      E      O      O\n",
       " 693       L      O      Y      E      H\n",
       " 722       C      P      D      E      F\n",
       " 510       S      I      Q      D      T\n",
       " 130       N      T      X      S      H\n",
       " 203       W      P      M      I      I,\n",
       "      Die #1 Die #2 Die #3 Die #4 Die #5\n",
       " Roll                                   \n",
       " 419       I      A      U      I      L\n",
       " 449       L      L      T      N      O\n",
       " 846       E      I      N      R      R\n",
       " 734       F      T      N      L      W\n",
       " 835       L      C      E      D      H\n",
       " 155       O      S      S      L      P\n",
       " 905       L      E      N      U      B\n",
       " 489       H      O      T      H      R\n",
       " 564       E      O      M      K      Z\n",
       " 141       R      T      E      I      M]"
      ]
     },
     "execution_count": 17,
     "metadata": {},
     "output_type": "execute_result"
    }
   ],
   "source": [
    "Result_list"
   ]
  },
  {
   "cell_type": "code",
   "execution_count": null,
   "metadata": {},
   "outputs": [],
   "source": []
  },
  {
   "cell_type": "markdown",
   "metadata": {},
   "source": [
    "# Directory Listing"
   ]
  },
  {
   "cell_type": "code",
   "execution_count": 55,
   "metadata": {},
   "outputs": [
    {
     "name": "stdout",
     "output_type": "stream",
     "text": [
      "\n",
      "\n",
      "    Directory: C:\\Users\\alexa\\DS-5100-Project-Repo\\Montecarlo\n",
      "\n",
      "\n",
      "Mode                 LastWriteTime         Length Name                                                                 \n",
      "----                 -------------         ------ ----                                                                 \n",
      "d-----         11/5/2022   5:27 PM                montecarlo                                                           \n",
      "d-----         11/5/2022   5:42 PM                montecarlo.egg-info                                                  \n",
      "d-----         11/5/2022   5:24 PM                tests                                                                \n",
      "-a----         11/5/2022   5:34 PM            464 setup.py                                                             \n",
      "\n",
      "\n",
      "    Directory: C:\\Users\\alexa\\DS-5100-Project-Repo\\Montecarlo\\montecarlo\n",
      "\n",
      "\n",
      "Mode                 LastWriteTime         Length Name                                                                 \n",
      "----                 -------------         ------ ----                                                                 \n",
      "d-----        11/21/2022  10:01 AM                __pycache__                                                          \n",
      "-a----        11/21/2022  10:00 AM           7937 montecarlo.py                                                        \n",
      "-a----         11/5/2022   5:32 PM             43 __init__.py                                                          \n",
      "\n",
      "\n",
      "    Directory: C:\\Users\\alexa\\DS-5100-Project-Repo\\Montecarlo\\montecarlo\\__pycache__\n",
      "\n",
      "\n",
      "Mode                 LastWriteTime         Length Name                                                                 \n",
      "----                 -------------         ------ ----                                                                 \n",
      "-a----         11/5/2022   5:28 PM           8808 montecarlo.cpython-310.pyc                                           \n",
      "-a----        11/21/2022  10:01 AM           8411 montecarlo.cpython-39.pyc                                            \n",
      "-a----         11/5/2022   5:32 PM            233 __init__.cpython-39.pyc                                              \n",
      "\n",
      "\n",
      "    Directory: C:\\Users\\alexa\\DS-5100-Project-Repo\\Montecarlo\\montecarlo.egg-info\n",
      "\n",
      "\n",
      "Mode                 LastWriteTime         Length Name                                                                 \n",
      "----                 -------------         ------ ----                                                                 \n",
      "-a----         11/5/2022   5:42 PM              1 dependency_links.txt                                                 \n",
      "-a----         11/5/2022   5:42 PM            350 PKG-INFO                                                             \n",
      "-a----         11/5/2022   5:42 PM             28 requires.txt                                                         \n",
      "-a----         11/5/2022   5:42 PM            225 SOURCES.txt                                                          \n",
      "-a----         11/5/2022   5:42 PM             11 top_level.txt                                                        \n",
      "\n",
      "\n",
      "    Directory: C:\\Users\\alexa\\DS-5100-Project-Repo\\Montecarlo\\tests\n",
      "\n",
      "\n",
      "Mode                 LastWriteTime         Length Name                                                                 \n",
      "----                 -------------         ------ ----                                                                 \n",
      "-a----        11/21/2022  10:14 AM           1670 montecarlo_results.txt                                               \n",
      "-a----         11/5/2022   5:09 PM           3324 montecarlo_test.py                                                   \n",
      "\n",
      "\n"
     ]
    }
   ],
   "source": [
    "%%powershell\n",
    "cd..\n",
    "cd Montecarlo\n",
    "Get-ChildItem -Recurse"
   ]
  },
  {
   "cell_type": "markdown",
   "metadata": {},
   "source": [
    "# Installation Output Listing"
   ]
  },
  {
   "cell_type": "code",
   "execution_count": 62,
   "metadata": {},
   "outputs": [
    {
     "name": "stdout",
     "output_type": "stream",
     "text": [
      "Obtaining file:///C:/Users/alexa/DS-5100-Project-Repo/Montecarlo\n",
      "Requirement already satisfied: pandas>=1.3.4 in c:\\users\\alexa\\anaconda3\\lib\\site-packages (from montecarlo==1.0.0) (1.3.4)\n",
      "Requirement already satisfied: numpy>=1.20.3 in c:\\users\\alexa\\anaconda3\\lib\\site-packages (from montecarlo==1.0.0) (1.20.3)\n",
      "Requirement already satisfied: python-dateutil>=2.7.3 in c:\\users\\alexa\\anaconda3\\lib\\site-packages (from pandas>=1.3.4->montecarlo==1.0.0) (2.8.2)\n",
      "Requirement already satisfied: pytz>=2017.3 in c:\\users\\alexa\\anaconda3\\lib\\site-packages (from pandas>=1.3.4->montecarlo==1.0.0) (2021.3)\n",
      "Requirement already satisfied: six>=1.5 in c:\\users\\alexa\\anaconda3\\lib\\site-packages (from python-dateutil>=2.7.3->pandas>=1.3.4->montecarlo==1.0.0) (1.16.0)\n",
      "Installing collected packages: montecarlo\n",
      "  Attempting uninstall: montecarlo\n",
      "    Found existing installation: montecarlo 1.0.0\n",
      "    Uninstalling montecarlo-1.0.0:\n",
      "      Successfully uninstalled montecarlo-1.0.0\n",
      "  Running setup.py develop for montecarlo\n",
      "Successfully installed montecarlo-1.0.0\n"
     ]
    }
   ],
   "source": [
    "%%powershell\n",
    "cd..\n",
    "cd Montecarlo\n",
    "pip install -e."
   ]
  },
  {
   "cell_type": "code",
   "execution_count": null,
   "metadata": {},
   "outputs": [],
   "source": []
  }
 ],
 "metadata": {
  "kernelspec": {
   "display_name": "Python 3.9.7 ('base': conda)",
   "language": "python",
   "name": "python3"
  },
  "language_info": {
   "codemirror_mode": {
    "name": "ipython",
    "version": 3
   },
   "file_extension": ".py",
   "mimetype": "text/x-python",
   "name": "python",
   "nbconvert_exporter": "python",
   "pygments_lexer": "ipython3",
   "version": "3.9.7"
  },
  "orig_nbformat": 4,
  "vscode": {
   "interpreter": {
    "hash": "277d713a2869ad522e0f58de96fa3cb2620734b34dd3b3afd7f1966d69d2580f"
   }
  }
 },
 "nbformat": 4,
 "nbformat_minor": 2
}
