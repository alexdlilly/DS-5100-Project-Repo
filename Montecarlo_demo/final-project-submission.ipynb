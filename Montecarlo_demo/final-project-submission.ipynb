{
 "cells": [
  {
   "cell_type": "markdown",
   "metadata": {},
   "source": [
    "# Metadata\n",
    "Title: Final Project for DS5100 2022  \n",
    "Date: November 22, 2022  \n",
    "Name: Alexander Lilly  \n",
    "Student ID: kzr3fb  \n",
    "Notebook GitHub URL: https://github.com/alexdlilly/DS-5100-Project-Repo/blob/main/Montecarlo_demo/final-project-submission.ipynb  \n",
    "All Files GitHub URL: https://github.com/alexdlilly/DS-5100-Project-Repo  "
   ]
  },
  {
   "cell_type": "markdown",
   "metadata": {},
   "source": [
    "# The Monte Carlo Module"
   ]
  },
  {
   "cell_type": "code",
   "execution_count": 1,
   "metadata": {},
   "outputs": [],
   "source": [
    "import numpy as np\n",
    "import pandas as pd\n",
    "class Die:\n",
    "    \"\"\" INITIALIZATION\n",
    "        INPUTS: \n",
    "            faces = a list of possible outcomes for a given random event. For example, for a 6-sided die, faces would \n",
    "                    be a list of length 6 where each element represents a face of the dice. By default, the Die class\n",
    "                    assumes equal probabilistic weights for each possible outcome. \n",
    "        ATTRIBUTES:\n",
    "            Die.faces = a list of possible outcomes associated with the Die object. \n",
    "            Die.results = Accesible only after the roll() method has been executed, Die.results returns a dataframe with \n",
    "                    the roll number as the index and the value as the outcome of the rolled die. \n",
    "        METHODS:\n",
    "            change_weight(face, new weight): To alter the default equal weight among die faces, pass the face you wish \n",
    "            the change the weight of and the weight to which to change it to the change_weight() method. \n",
    "            roll(num_rolls): Rolls the die num_rolls times. Stores results of each roll in .results as a dataframe. \n",
    "            show_weights(): Returns a dataframe of the die faces and their corresponding weights.  \n",
    "    \"\"\"\n",
    "    def __init__(self, faces):\n",
    "        self.faces = faces\n",
    "        self._weight = np.ones(len(faces))\n",
    "        self._faces_weight = pd.DataFrame({'Faces':self.faces,'Weights':self._weight})\n",
    "    \n",
    "    def change_weight(self, face, new_weight):\n",
    "        \"\"\"change_weight(face, new weight): To alter the default equal weight among die faces, pass the face you wish \n",
    "            the change the weight of and the weight to which to change it to the change_weight() method. \"\"\"\n",
    "        if face in self.faces:\n",
    "            if isinstance(new_weight,float):\n",
    "                self._faces_weight.loc[self._faces_weight[\"Faces\"] == face, \"Weights\"] = new_weight\n",
    "            else:\n",
    "                try:\n",
    "                    float(new_weight)\n",
    "                    self._faces_weight.loc[self._faces_weight[\"Faces\"] == face, \"Weights\"] = new_weight\n",
    "                except:\n",
    "                    raise Exception('New weight must be float or convertable to float!')\n",
    "\n",
    "        else:\n",
    "            raise Exception('Face is not in list of faces') \n",
    "    \n",
    "    def roll(self,num_rolls=1):\n",
    "        \"\"\"Rolls the die num_rolls times using np.random.choice. Stores results of each roll in .results as a dataframe. \"\"\"\n",
    "        self._faces_weight['Probability'] = self._faces_weight['Weights']/self._faces_weight['Weights'].sum()\n",
    "        outcomes = np.random.choice(self._faces_weight['Faces'],size=num_rolls, p=self._faces_weight['Probability'])\n",
    "        self.results = pd.DataFrame({'Results':outcomes})\n",
    "        self.results.index.name = 'Roll'\n",
    "\n",
    "    def show_weights(self):\n",
    "        \"\"\"Returns a dataframe of the die faces and their corresponding weights.\"\"\"\n",
    "        return self._faces_weight[['Faces','Weights']]\n",
    "\n",
    "class Game():\n",
    "    \"\"\" INITIALIZATION\n",
    "        INPUTS: \n",
    "            dies: a list of die objects created by the Die class. Each die object must have the same faces, although each die \n",
    "                object can have different weights associated with the die faces. \n",
    "        ATTRIBUTES:\n",
    "            Game.dies: a list of die objects passed through the Game initialization method. \n",
    "        METHODS:\n",
    "            Game.play(N): Rolls each die object N times, stores results in a dataframe Game._results. \n",
    "            Game.show(form='Wide'): form = 'Wide' (default) or form = 'Narrow'. If form = 'Wide', Game.show() returns \n",
    "                the Game._results dataframe. If form = 'Narrow', Game.show() returns a multi-index array where the roll \n",
    "                number and die ID are the indices, and the value are the outcomes of the associates roll number and die ID. \n",
    "    \"\"\"\n",
    "    def __init__(self, dies):\n",
    "        if isinstance(dies,list):\n",
    "            self.dies = dies\n",
    "        else:\n",
    "            raise Exception('Dies object must be passed as a list!')\n",
    "        \n",
    "    def play(self, N):\n",
    "        \"\"\"Rolls each die object N times, stores results in a dataframe Game._results. \"\"\"\n",
    "        self._results = pd.DataFrame()\n",
    "        i = 1\n",
    "        for die in self.dies:\n",
    "            die.roll(num_rolls = N)\n",
    "            self._results[f\"Die #{i}\"] = die.results['Results'] \n",
    "            i += 1\n",
    "\n",
    "    def show(self,form='Wide'):\n",
    "        \"\"\"form = 'Wide' (default) or form = 'Narrow'. If form = 'Wide', Game.show() returns \n",
    "                the Game._results dataframe. If form = 'Narrow', Game.show() returns a multi-index array where the roll \n",
    "                number and die ID are the indices, and the value are the outcomes of the associates roll number and die ID. \"\"\"\n",
    "        if form == 'Wide':\n",
    "            return self._results\n",
    "        elif form == 'Narrow':\n",
    "            self._results['Roll'] = self._results.index\n",
    "            narrow = pd.wide_to_long(self._results, stubnames = 'Die #',i=[\"Roll\"],j='Die')\n",
    "            narrow = narrow.rename(columns={'Die #':'Result'})\n",
    "            return narrow\n",
    "\n",
    "class Analyzer():\n",
    "    \"\"\" INITIALIZATION\n",
    "        INPUTS: \n",
    "            game: the game object generated by the Game class. \n",
    "        ATTRIBUTES:\n",
    "            Analyzer.game: the game object passed through the Analyzer initialization method. \n",
    "            Analyzer.face_counts: Accessible after executing the face_counts_per_roll() method. Analyzer.face_counts is a dataframe\n",
    "                where each row corresponds to a roll event, and each column is a face of the die object. The values of this dataframe\n",
    "                correspond to the number of times a given face was rolled in a given roll event. \n",
    "            Analyzer.num_jackpots: The number of times all dice rolled the same face. \n",
    "            Analyzer.combo: A multi-index dataframe where the indices are different combinations of rolled faces, and the values correspond\n",
    "                to the number of times those faces were rolled. This dataframe is sorted in descending order, so combinations with the highest\n",
    "                frequency of occurrence are at the top.  \n",
    "        METHODS:\n",
    "            Analyzer.face_counts_per_roll(): Counts the number of each possible face that was rolled for each roll event. Returns the dataframe\n",
    "                .face_counts. \n",
    "            Analyzer.jackpot(): Counts the number of times all dice rolled the same face. Returns the integer .num_jackpots.\n",
    "            Analyzer.Combo(): Counts the frequency of a given combination of rolled faces, sorted in descending order based on frequency. \n",
    "                Returns the dataframe .combo. \n",
    "\n",
    "    \"\"\"\n",
    "    def __init__(self, game):\n",
    "        self.game = game\n",
    "    \n",
    "    def face_counts_per_roll(self):\n",
    "        \"\"\"Counts the number of each possible face that was rolled for each roll event using pd.get_dummies. Returns the dataframe .face_counts. \"\"\"\n",
    "        face_counts = self.game.show(form='Narrow')\n",
    "        face_counts = pd.get_dummies(face_counts.Result)\n",
    "        self.face_counts = face_counts.groupby(['Roll']).sum()\n",
    "        return self.face_counts\n",
    "\n",
    "    def jackpot(self):\n",
    "        \"\"\"Counts the number of times all dice rolled the same face. Returns the integer .num_jackpots.\"\"\"\n",
    "        self.face_counts_per_roll()\n",
    "        jackpotdf = self.face_counts.apply(lambda x: np.count_nonzero(x, axis=0),axis=1)\n",
    "        self.jackpotdf = jackpotdf.loc[jackpotdf == 1]\n",
    "        num_jackpots = len(self.jackpotdf)\n",
    "        return num_jackpots\n",
    "    \n",
    "    def Combo(self):\n",
    "        \"\"\"Counts the frequency of a given combination of rolled faces, sorted in descending order based on frequency. Returns the dataframe .combo. \"\"\"\n",
    "        self.face_counts_per_roll()\n",
    "        self.combo = pd.pivot_table(self.game.show(), index=self.game.show().columns.to_list()[:-1],aggfunc=np.count_nonzero)\n",
    "        self.combo = self.combo.rename(columns = {'Roll':'Count'})\n",
    "        self.combo = self.combo.sort_values(by='Count',ascending=False)"
   ]
  },
  {
   "cell_type": "markdown",
   "metadata": {},
   "source": [
    "# Test Module"
   ]
  },
  {
   "cell_type": "code",
   "execution_count": 2,
   "metadata": {},
   "outputs": [],
   "source": [
    "from montecarlo import Die, Game, Analyzer\n",
    "import unittest\n",
    "\n",
    "class MontecarloTestSuite(unittest.TestCase):\n",
    "\n",
    "    def test_change_weight(self):\n",
    "        # Test that the change_weight() method of the Die class correctly changes the weight of the assigned face. \n",
    "        faces = [1,2,3,4]\n",
    "        dice = Die(faces)\n",
    "        dice.change_weight(3,2)\n",
    "        df_faces_weights = dice.show_weights()\n",
    "        assert df_faces_weights['Weights'][2] == 2\n",
    "\n",
    "    def test_roll(self):\n",
    "        # Test that the roll() method of the Die class generates a dataframe object with length N for number of rolls. \n",
    "        faces = [1,2,3,4]\n",
    "        dice = Die(faces)\n",
    "        dice.roll(num_rolls=10)\n",
    "        assert len(dice.results) == 10\n",
    "\n",
    "    def test_play(self):\n",
    "        # Test that the play() method of the Game class generates a dataframe object with length N for number of rolls. \n",
    "        faces = [1,2,3,4]\n",
    "        dice = Die(faces)\n",
    "        game = Game([dice])\n",
    "        game.play(10)\n",
    "        assert len(game._results) == 10\n",
    "\n",
    "    def test_show_wide(self):\n",
    "        # Test that the show() method of the Game class generates a wide form dataframe object with length N for number of rolls and width W for number of dice. \n",
    "        faces = [1,2,3,4]\n",
    "        dice = Die(faces)\n",
    "        game = Game([dice,dice,dice])\n",
    "        game.play(10)\n",
    "        df = game.show()\n",
    "        assert (df.shape[0] == 10 and df.shape[1]==3)     \n",
    "\n",
    "    def test_show_narrow(self):\n",
    "        # Test that the show() method of the Game class generates a narrow form dataframe object with length N x W for number of rolls N and number of dice W. \n",
    "        faces = [1,2,3,4]\n",
    "        dice = Die(faces)\n",
    "        game = Game([dice,dice,dice])\n",
    "        game.play(10)\n",
    "        df = game.show(form='Narrow')\n",
    "        assert (len(df) == 30)\n",
    "\n",
    "    def test_face_counts_per_roll(self):\n",
    "        # Tests that the face_counts_per_roll() method of the Analyzer class produces a dataframe of size N x F for number of rolls N and number of faces F, and has an internal sum of values (face counts) equal to N x W for N number of rolls and W number of dice. \n",
    "        faces = [1,2,3,4,5]\n",
    "        dice = Die(faces)\n",
    "        game = Game([dice,dice,dice])\n",
    "        game.play(20)\n",
    "        Analysis=Analyzer(game)\n",
    "        df = Analysis.face_counts_per_roll()\n",
    "        shape = df.shape\n",
    "        internal_sum = df.sum().sum()\n",
    "        assert (shape[0]==20 and shape[1]==5 and internal_sum==60)\n",
    "\n",
    "    def test_jackpot(self):\n",
    "        # Tests that the jackpot() method of the Analyzer class returns an integer. \n",
    "        faces = [1,2,3,4,5]\n",
    "        dice = Die(faces)\n",
    "        game = Game([dice,dice,dice])\n",
    "        game.play(20)\n",
    "        Analysis=Analyzer(game)\n",
    "        assert isinstance(Analysis.jackpot(),int) == True\n",
    "\n",
    "    def test_combo(self):\n",
    "        # Tests that the combo() method of the Analyzer class returns a dataframe of only 1 column with a sum of combinations equal to the number of rolls minus 1. \n",
    "        faces = [1,2,3,4,5,6]\n",
    "        dice = Die(faces)\n",
    "        game = Game([dice,dice,dice,dice,dice])\n",
    "        game.play(1000)\n",
    "        Analysis=Analyzer(game)\n",
    "        Analysis.Combo()\n",
    "        assert(Analysis.combo.shape[1]==1 and Analysis.combo['Count'].sum()==999)\n",
    "                   \n"
   ]
  },
  {
   "cell_type": "markdown",
   "metadata": {},
   "source": [
    "# Test Results"
   ]
  },
  {
   "cell_type": "code",
   "execution_count": 3,
   "metadata": {},
   "outputs": [
    {
     "name": "stderr",
     "output_type": "stream",
     "text": [
      "test_change_weight (__main__.MontecarloTestSuite) ... ok\n",
      "test_combo (__main__.MontecarloTestSuite) ... ok\n",
      "test_face_counts_per_roll (__main__.MontecarloTestSuite) ... ok\n",
      "test_jackpot (__main__.MontecarloTestSuite) ... ok\n",
      "test_play (__main__.MontecarloTestSuite) ... ok\n",
      "test_roll (__main__.MontecarloTestSuite) ... ok\n",
      "test_show_narrow (__main__.MontecarloTestSuite) ... ok\n",
      "test_show_wide (__main__.MontecarloTestSuite) ... ok\n",
      "\n",
      "----------------------------------------------------------------------\n",
      "Ran 8 tests in 0.067s\n",
      "\n",
      "OK\n"
     ]
    },
    {
     "data": {
      "text/plain": [
       "<unittest.main.TestProgram at 0x23290d326a0>"
      ]
     },
     "execution_count": 3,
     "metadata": {},
     "output_type": "execute_result"
    }
   ],
   "source": [
    "unittest.main(argv=[''], verbosity=2, exit=False)"
   ]
  },
  {
   "cell_type": "markdown",
   "metadata": {},
   "source": [
    "# Scenarios"
   ]
  },
  {
   "cell_type": "markdown",
   "metadata": {},
   "source": [
    "## Scenario 1: 2-headed Coin"
   ]
  },
  {
   "cell_type": "code",
   "execution_count": 4,
   "metadata": {},
   "outputs": [],
   "source": [
    "from montecarlo import Die, Game, Analyzer"
   ]
  },
  {
   "cell_type": "code",
   "execution_count": 5,
   "metadata": {},
   "outputs": [],
   "source": [
    "Faces = ['H','T']\n",
    "Fair = Die(Faces)\n",
    "Unfair = Die(Faces)\n",
    "Unfair.change_weight('H',5)"
   ]
  },
  {
   "cell_type": "markdown",
   "metadata": {},
   "source": [
    "Play a game of 1,000 flips with three coins with all fair dice. "
   ]
  },
  {
   "cell_type": "code",
   "execution_count": 6,
   "metadata": {},
   "outputs": [
    {
     "name": "stdout",
     "output_type": "stream",
     "text": [
      "0.24\n"
     ]
    }
   ],
   "source": [
    "Game = Game([Fair,Fair,Fair])\n",
    "Game.play(1000)\n",
    "Analysis = Analyzer(Game)\n",
    "Fair_Jackpot = Analysis.jackpot()/1000\n",
    "print(Fair_Jackpot)"
   ]
  },
  {
   "cell_type": "markdown",
   "metadata": {},
   "source": [
    "Play a game of 1,000 flips with three coins with two unfair dice and one fair die"
   ]
  },
  {
   "cell_type": "code",
   "execution_count": 7,
   "metadata": {},
   "outputs": [
    {
     "name": "stdout",
     "output_type": "stream",
     "text": [
      "0.332\n"
     ]
    }
   ],
   "source": [
    "from montecarlo import Game\n",
    "Unfair_Game = Game([Unfair,Fair,Unfair])\n",
    "Unfair_Game.play(1000)\n",
    "Analysis = Analyzer(Unfair_Game)\n",
    "Unfair_Jackpot = Analysis.jackpot()/1000\n",
    "print(Unfair_Jackpot)"
   ]
  },
  {
   "cell_type": "code",
   "execution_count": 8,
   "metadata": {},
   "outputs": [
    {
     "data": {
      "image/png": "[encoded data removed]",
      "text/plain": [
       "<Figure size 936x576 with 1 Axes>"
      ]
     },
     "metadata": {
      "needs_background": "light"
     },
     "output_type": "display_data"
    }
   ],
   "source": [
    "import matplotlib.pyplot as plt\n",
    "plt.figure(figsize=(13,8))\n",
    "plt.bar(['3 Fair Die','2 Unfair Die, 1 Fair Dice'],[Fair_Jackpot, Unfair_Jackpot],color='gray',edgecolor='black')\n",
    "plt.ylabel('Relative Frequency of Jackpots')\n",
    "plt.title('The Impact of Unfair 2-sided Die on Relative Frequency of Jackpots',loc='left')\n",
    "plt.show()"
   ]
  },
  {
   "cell_type": "markdown",
   "metadata": {},
   "source": [
    "## Scenario 2: 6-sided Die"
   ]
  },
  {
   "cell_type": "code",
   "execution_count": 80,
   "metadata": {},
   "outputs": [],
   "source": [
    "from montecarlo import Die, Game, Analyzer"
   ]
  },
  {
   "cell_type": "code",
   "execution_count": 81,
   "metadata": {},
   "outputs": [],
   "source": [
    "Faces = [1,2,3,4,5,6]\n",
    "Die1 = Die(Faces)\n",
    "Die1.change_weight(6,5)\n",
    "Die2 = Die(Faces)\n",
    "Die2.change_weight(1,5)\n",
    "Die = Die(Faces)"
   ]
  },
  {
   "cell_type": "code",
   "execution_count": 82,
   "metadata": {},
   "outputs": [
    {
     "name": "stdout",
     "output_type": "stream",
     "text": [
      "                                    Count\n",
      "Die #1 Die #2 Die #3 Die #4 Die #5       \n",
      "5      1      3      4      6           7\n",
      "3      3      5      6      3           7\n",
      "2      1      1      6      2           7\n",
      "4      5      3      2      3           7\n",
      "3      3      6      5      5           6\n",
      "5      1      1      4      6           6\n",
      "2      2      3      3      6           6\n",
      "4      5      1      6      1           6\n",
      "5      2      1      5      6           6\n",
      "       3      3      5      2           6\n"
     ]
    }
   ],
   "source": [
    "Fair_Game = Game([Die, Die, Die, Die, Die])\n",
    "Fair_Game.play(10000)\n",
    "Analysis = Analyzer(Fair_Game)\n",
    "Fair_Jackpots = Analysis.jackpot()/10000\n",
    "Analysis.Combo()\n",
    "Fair_Combo = Analysis.combo[:10]\n"
   ]
  },
  {
   "cell_type": "code",
   "execution_count": 12,
   "metadata": {},
   "outputs": [],
   "source": [
    "from montecarlo import Game\n",
    "Unfair_Game = Game([Die1,Die1,Die2,Die,Die])\n",
    "Unfair_Game.play(10000)\n",
    "Analysis = Analyzer(Unfair_Game)\n",
    "Unfair_Jackpots = Analysis.jackpot()/10000\n",
    "Analysis.Combo()\n",
    "Unfair_Combo = Analysis.combo[:10]\n"
   ]
  },
  {
   "cell_type": "code",
   "execution_count": 94,
   "metadata": {},
   "outputs": [
    {
     "data": {
      "image/png": "[encoded data removed]",
      "text/plain": [
       "<Figure size 936x576 with 1 Axes>"
      ]
     },
     "metadata": {
      "needs_background": "light"
     },
     "output_type": "display_data"
    },
    {
     "data": {
      "text/plain": [
       "'51346'"
      ]
     },
     "execution_count": 94,
     "metadata": {},
     "output_type": "execute_result"
    }
   ],
   "source": [
    "import matplotlib.pyplot as plt\n",
    "plt.figure(figsize=(13,8))\n",
    "plt.bar(['All Fair Die','2 Type 1, 1 Type 2, 2 Fair Dice'],[Fair_Jackpots, Unfair_Jackpots],color='gray',edgecolor='black')\n",
    "plt.ylabel('Relative Frequency of Jackpots')\n",
    "plt.title('The Impact of Unfair 6-sided Die on Relative Frequency of Jackpots',loc='left')\n",
    "plt.show()"
   ]
  },
  {
   "cell_type": "markdown",
   "metadata": {},
   "source": [
    "Lets get the combinations of the rolled faces and their corresponding frequency, then plot them in a bar chart. "
   ]
  },
  {
   "cell_type": "code",
   "execution_count": 118,
   "metadata": {},
   "outputs": [
    {
     "data": {
      "image/png": "[encoded data removed]",
      "text/plain": [
       "<Figure size 936x576 with 2 Axes>"
      ]
     },
     "metadata": {
      "needs_background": "light"
     },
     "output_type": "display_data"
    }
   ],
   "source": [
    "\n",
    "name_fair = []\n",
    "frequency_fair = []\n",
    "for i in range(len(Fair_Combo)):\n",
    "    name_fair.append(''.join(str(e) for e in list(Fair_Combo.index[i])))\n",
    "    frequency_fair.append(Fair_Combo.values[i][0])\n",
    "\n",
    "name_unfair = []\n",
    "frequency_unfair = []\n",
    "for i in range(len(Unfair_Combo)):\n",
    "    name_unfair.append(''.join(str(e) for e in list(Unfair_Combo.index[i])))\n",
    "    frequency_unfair.append(Unfair_Combo.values[i][0])\n",
    "\n",
    "fig, ax = plt.subplots(2,figsize=(13,8))\n",
    "ax[0].bar(name_fair, frequency_fair,color='gray',edgecolor='black')\n",
    "ax[0].set(ylabel = 'Combination Frequency')\n",
    "ax[1].bar(name_unfair, frequency_unfair,color='gray',edgecolor='black')\n",
    "ax[1].set(ylabel = 'Combination Frequency')\n",
    "ax[1].set(xlabel = 'Rolled Face Combination')\n",
    "plt.show()"
   ]
  },
  {
   "cell_type": "markdown",
   "metadata": {},
   "source": [
    "## Scenario 3: Roman Alphabet"
   ]
  },
  {
   "cell_type": "code",
   "execution_count": 75,
   "metadata": {},
   "outputs": [],
   "source": [
    "import pandas as pd\n",
    "import numpy as np\n",
    "from montecarlo import Die, Game, Analyzer\n",
    "\n",
    "Alphabet = pd.read_csv('roman_alphabet.txt',delimiter='\\t',header=None,names=['Letter','Weight'])\n",
    "Alphabet['Letter'] = Alphabet['Letter'].astype('str')"
   ]
  },
  {
   "cell_type": "code",
   "execution_count": 76,
   "metadata": {},
   "outputs": [],
   "source": [
    "Die = Die(Alphabet['Letter'].tolist())\n",
    "\n",
    "for i in range(len(Alphabet)):\n",
    "    Die.change_weight(Alphabet['Letter'].iloc[i], Alphabet['Weight'].iloc[i])"
   ]
  },
  {
   "cell_type": "code",
   "execution_count": 77,
   "metadata": {},
   "outputs": [],
   "source": [
    "Game = Game([Die, Die, Die, Die, Die])\n",
    "Result_list = []\n",
    "for i in range(10):\n",
    "    rand_list = np.random.randint(1000,size=10)\n",
    "    Game.play(1000)\n",
    "    Result_list.append(Game.show().iloc[rand_list])\n",
    "    "
   ]
  },
  {
   "cell_type": "code",
   "execution_count": 78,
   "metadata": {},
   "outputs": [
    {
     "data": {
      "text/plain": [
       "[     Die #1 Die #2 Die #3 Die #4 Die #5\n",
       " Roll                                   \n",
       " 434       R      O      E      H      O\n",
       " 489       T      R      P      S      B\n",
       " 889       A      C      E      W      D\n",
       " 11        N      M      T      I      H\n",
       " 428       L      T      O      L      C\n",
       " 409       I      A      M      R      N\n",
       " 222       B      O      T      P      T\n",
       " 287       E      U      E      F      E\n",
       " 108       G      A      V      E      H\n",
       " 139       I      U      H      I      V,\n",
       "      Die #1 Die #2 Die #3 Die #4 Die #5\n",
       " Roll                                   \n",
       " 503       I      A      R      E      T\n",
       " 551       D      N      Y      U      S\n",
       " 621       O      N      R      I      V\n",
       " 58        A      Y      U      R      O\n",
       " 633       S      H      T      E      S\n",
       " 113       I      A      I      C      Y\n",
       " 145       C      P      T      B      T\n",
       " 767       H      I      B      L      U\n",
       " 288       O      S      B      G      S\n",
       " 99        R      I      O      S      L,\n",
       "      Die #1 Die #2 Die #3 Die #4 Die #5\n",
       " Roll                                   \n",
       " 708       G      G      E      U      U\n",
       " 951       W      M      F      C      I\n",
       " 293       C      D      C      L      O\n",
       " 970       G      E      A      M      N\n",
       " 89        S      N      V      B      E\n",
       " 574       C      S      R      H      D\n",
       " 675       H      V      D      S      L\n",
       " 7         T      I      U      E      E\n",
       " 511       U      L      O      R      Y\n",
       " 346       R      I      S      E      E,\n",
       "      Die #1 Die #2 Die #3 Die #4 Die #5\n",
       " Roll                                   \n",
       " 152       L      I      N      D      R\n",
       " 961       B      K      A      L      S\n",
       " 346       Y      M      D      E      E\n",
       " 375       G      N      L      A      V\n",
       " 63        I      D      A      N      E\n",
       " 985       G      A      L      R      E\n",
       " 325       E      G      B      T      D\n",
       " 355       L      R      A      Z      I\n",
       " 790       N      U      A      T      N\n",
       " 808       S      B      I      A      I,\n",
       "      Die #1 Die #2 Die #3 Die #4 Die #5\n",
       " Roll                                   \n",
       " 402       Y      T      S      O      B\n",
       " 569       P      B      E      A      A\n",
       " 566       G      I      N      S      O\n",
       " 832       N      O      N      E      R\n",
       " 606       L      O      N      C      U\n",
       " 523       G      A      T      N      I\n",
       " 267       R      N      V      E      S\n",
       " 60        G      U      A      N      G\n",
       " 761       T      E      D      C      I\n",
       " 902       T      I      O      I      O,\n",
       "      Die #1 Die #2 Die #3 Die #4 Die #5\n",
       " Roll                                   \n",
       " 960       T      U      E      L      P\n",
       " 355       D      R      R      E      A\n",
       " 47        C      T      E      G      T\n",
       " 296       I      H      I      O      C\n",
       " 838       E      L      T      H      O\n",
       " 564       N      M      S      M      C\n",
       " 81        R      D      M      V      N\n",
       " 155       A      R      N      M      T\n",
       " 309       E      E      N      A      I\n",
       " 135       O      I      N      A      R,\n",
       "      Die #1 Die #2 Die #3 Die #4 Die #5\n",
       " Roll                                   \n",
       " 151       N      O      D      U      F\n",
       " 205       E      A      E      E      N\n",
       " 140       L      I      N      W      A\n",
       " 307       M      G      R      S      E\n",
       " 316       O      R      P      P      V\n",
       " 258       P      E      N      X      W\n",
       " 863       S      I      G      I      H\n",
       " 821       U      B      R      E      E\n",
       " 63        V      D      I      I      T\n",
       " 386       O      B      E      U      I,\n",
       "      Die #1 Die #2 Die #3 Die #4 Die #5\n",
       " Roll                                   \n",
       " 500       A      L      E      I      E\n",
       " 730       F      O      N      V      P\n",
       " 154       I      M      L      C      O\n",
       " 691       E      P      R      E      S\n",
       " 750       H      C      A      E      U\n",
       " 234       W      N      R      L      W\n",
       " 747       R      R      D      B      L\n",
       " 9         O      A      N      G      A\n",
       " 345       Y      O      T      O      P\n",
       " 784       V      H      T      A      W,\n",
       "      Die #1 Die #2 Die #3 Die #4 Die #5\n",
       " Roll                                   \n",
       " 698       C      Y      R      T      E\n",
       " 938       M      E      S      V      E\n",
       " 918       N      I      P      B      O\n",
       " 278       A      E      P      P      U\n",
       " 619       M      M      U      R      E\n",
       " 254       A      T      W      N      R\n",
       " 340       R      M      A      R      E\n",
       " 20        E      N      G      R      T\n",
       " 569       N      A      Y      O      D\n",
       " 121       H      O      E      C      P,\n",
       "      Die #1 Die #2 Die #3 Die #4 Die #5\n",
       " Roll                                   \n",
       " 7         V      N      U      S      B\n",
       " 525       M      U      G      O      T\n",
       " 770       S      I      O      B      F\n",
       " 933       C      S      T      T      N\n",
       " 525       M      U      G      O      T\n",
       " 155       M      E      C      I      E\n",
       " 887       L      C      L      B      A\n",
       " 74        T      N      A      O      R\n",
       " 110       P      R      O      C      N\n",
       " 602       T      T      T      U      D]"
      ]
     },
     "execution_count": 78,
     "metadata": {},
     "output_type": "execute_result"
    }
   ],
   "source": [
    "Result_list"
   ]
  },
  {
   "cell_type": "markdown",
   "metadata": {},
   "source": [
    "I ran this 5 times and looked at 10 random samples of 10, for a total of 500 rolls. Across the 500 rolls, I found 65 words that sounded like English words. My criteria for selecting words was basically this: can I pronounce this word. If yes, I counted it, if no, then I didn't count it. Based on that criteria, the roman alphabet contains combinations of which approximately 13% sound like English words. "
   ]
  },
  {
   "cell_type": "markdown",
   "metadata": {},
   "source": [
    "# Directory Listing"
   ]
  },
  {
   "cell_type": "code",
   "execution_count": 55,
   "metadata": {},
   "outputs": [
    {
     "name": "stdout",
     "output_type": "stream",
     "text": [
      "\n",
      "\n",
      "    Directory: C:\\Users\\alexa\\DS-5100-Project-Repo\\Montecarlo\n",
      "\n",
      "\n",
      "Mode                 LastWriteTime         Length Name                                                                 \n",
      "----                 -------------         ------ ----                                                                 \n",
      "d-----         11/5/2022   5:27 PM                montecarlo                                                           \n",
      "d-----         11/5/2022   5:42 PM                montecarlo.egg-info                                                  \n",
      "d-----         11/5/2022   5:24 PM                tests                                                                \n",
      "-a----         11/5/2022   5:34 PM            464 setup.py                                                             \n",
      "\n",
      "\n",
      "    Directory: C:\\Users\\alexa\\DS-5100-Project-Repo\\Montecarlo\\montecarlo\n",
      "\n",
      "\n",
      "Mode                 LastWriteTime         Length Name                                                                 \n",
      "----                 -------------         ------ ----                                                                 \n",
      "d-----        11/21/2022  10:01 AM                __pycache__                                                          \n",
      "-a----        11/21/2022  10:00 AM           7937 montecarlo.py                                                        \n",
      "-a----         11/5/2022   5:32 PM             43 __init__.py                                                          \n",
      "\n",
      "\n",
      "    Directory: C:\\Users\\alexa\\DS-5100-Project-Repo\\Montecarlo\\montecarlo\\__pycache__\n",
      "\n",
      "\n",
      "Mode                 LastWriteTime         Length Name                                                                 \n",
      "----                 -------------         ------ ----                                                                 \n",
      "-a----         11/5/2022   5:28 PM           8808 montecarlo.cpython-310.pyc                                           \n",
      "-a----        11/21/2022  10:01 AM           8411 montecarlo.cpython-39.pyc                                            \n",
      "-a----         11/5/2022   5:32 PM            233 __init__.cpython-39.pyc                                              \n",
      "\n",
      "\n",
      "    Directory: C:\\Users\\alexa\\DS-5100-Project-Repo\\Montecarlo\\montecarlo.egg-info\n",
      "\n",
      "\n",
      "Mode                 LastWriteTime         Length Name                                                                 \n",
      "----                 -------------         ------ ----                                                                 \n",
      "-a----         11/5/2022   5:42 PM              1 dependency_links.txt                                                 \n",
      "-a----         11/5/2022   5:42 PM            350 PKG-INFO                                                             \n",
      "-a----         11/5/2022   5:42 PM             28 requires.txt                                                         \n",
      "-a----         11/5/2022   5:42 PM            225 SOURCES.txt                                                          \n",
      "-a----         11/5/2022   5:42 PM             11 top_level.txt                                                        \n",
      "\n",
      "\n",
      "    Directory: C:\\Users\\alexa\\DS-5100-Project-Repo\\Montecarlo\\tests\n",
      "\n",
      "\n",
      "Mode                 LastWriteTime         Length Name                                                                 \n",
      "----                 -------------         ------ ----                                                                 \n",
      "-a----        11/21/2022  10:14 AM           1670 montecarlo_results.txt                                               \n",
      "-a----         11/5/2022   5:09 PM           3324 montecarlo_test.py                                                   \n",
      "\n",
      "\n"
     ]
    }
   ],
   "source": [
    "%%powershell\n",
    "cd..\n",
    "cd Montecarlo\n",
    "Get-ChildItem -Recurse"
   ]
  },
  {
   "cell_type": "markdown",
   "metadata": {},
   "source": [
    "# Installation Output Listing"
   ]
  },
  {
   "cell_type": "code",
   "execution_count": 62,
   "metadata": {},
   "outputs": [
    {
     "name": "stdout",
     "output_type": "stream",
     "text": [
      "Obtaining file:///C:/Users/alexa/DS-5100-Project-Repo/Montecarlo\n",
      "Requirement already satisfied: pandas>=1.3.4 in c:\\users\\alexa\\anaconda3\\lib\\site-packages (from montecarlo==1.0.0) (1.3.4)\n",
      "Requirement already satisfied: numpy>=1.20.3 in c:\\users\\alexa\\anaconda3\\lib\\site-packages (from montecarlo==1.0.0) (1.20.3)\n",
      "Requirement already satisfied: python-dateutil>=2.7.3 in c:\\users\\alexa\\anaconda3\\lib\\site-packages (from pandas>=1.3.4->montecarlo==1.0.0) (2.8.2)\n",
      "Requirement already satisfied: pytz>=2017.3 in c:\\users\\alexa\\anaconda3\\lib\\site-packages (from pandas>=1.3.4->montecarlo==1.0.0) (2021.3)\n",
      "Requirement already satisfied: six>=1.5 in c:\\users\\alexa\\anaconda3\\lib\\site-packages (from python-dateutil>=2.7.3->pandas>=1.3.4->montecarlo==1.0.0) (1.16.0)\n",
      "Installing collected packages: montecarlo\n",
      "  Attempting uninstall: montecarlo\n",
      "    Found existing installation: montecarlo 1.0.0\n",
      "    Uninstalling montecarlo-1.0.0:\n",
      "      Successfully uninstalled montecarlo-1.0.0\n",
      "  Running setup.py develop for montecarlo\n",
      "Successfully installed montecarlo-1.0.0\n"
     ]
    }
   ],
   "source": [
    "%%powershell\n",
    "cd..\n",
    "cd Montecarlo\n",
    "pip install -e."
   ]
  }
 ],
 "metadata": {
  "kernelspec": {
   "display_name": "Python 3.9.7 ('base': conda)",
   "language": "python",
   "name": "python3"
  },
  "language_info": {
   "codemirror_mode": {
    "name": "ipython",
    "version": 3
   },
   "file_extension": ".py",
   "mimetype": "text/x-python",
   "name": "python",
   "nbconvert_exporter": "python",
   "pygments_lexer": "ipython3",
   "version": "3.9.7"
  },
  "orig_nbformat": 4,
  "vscode": {
   "interpreter": {
    "hash": "277d713a2869ad522e0f58de96fa3cb2620734b34dd3b3afd7f1966d69d2580f"
   }
  }
 },
 "nbformat": 4,
 "nbformat_minor": 2
}
