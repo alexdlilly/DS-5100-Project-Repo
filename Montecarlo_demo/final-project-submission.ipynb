{
 "cells": [
  {
   "cell_type": "markdown",
   "metadata": {},
   "source": [
    "# Metadata\n",
    "Title: Final Project for DS5100 2022  \n",
    "Date: November 22, 2022  \n",
    "Name: Alexander Lilly  \n",
    "Student ID: kzr3fb  \n",
    "Notebook GitHub URL: https://github.com/alexdlilly/DS-5100-Project-Repo/blob/main/Montecarlo_demo/final-project-submission.ipynb  \n",
    "All Files GitHub URL: https://github.com/alexdlilly/DS-5100-Project-Repo  "
   ]
  },
  {
   "cell_type": "markdown",
   "metadata": {},
   "source": [
    "# The Monte Carlo Module"
   ]
  },
  {
   "cell_type": "code",
   "execution_count": 1,
   "metadata": {},
   "outputs": [],
   "source": [
    "import numpy as np\n",
    "import pandas as pd\n",
    "class Die:\n",
    "    \"\"\" INITIALIZATION\n",
    "        INPUTS: \n",
    "            faces = a list of possible outcomes for a given random event. For example, for a 6-sided die, faces would \n",
    "                    be a list of length 6 where each element represents a face of the dice. By default, the Die class\n",
    "                    assumes equal probabilistic weights for each possible outcome. \n",
    "        ATTRIBUTES:\n",
    "            Die.faces = a list of possible outcomes associated with the Die object. \n",
    "            Die.results = Accesible only after the roll() method has been executed, Die.results returns a dataframe with \n",
    "                    the roll number as the index and the value as the outcome of the rolled die. \n",
    "        METHODS:\n",
    "            change_weight(face, new weight): To alter the default equal weight among die faces, pass the face you wish \n",
    "            the change the weight of and the weight to which to change it to the change_weight() method. \n",
    "            roll(num_rolls): Rolls the die num_rolls times. Stores results of each roll in .results as a dataframe. \n",
    "            show_weights(): Returns a dataframe of the die faces and their corresponding weights.  \n",
    "    \"\"\"\n",
    "    def __init__(self, faces):\n",
    "        self.faces = faces\n",
    "        self._weight = np.ones(len(faces))\n",
    "        self._faces_weight = pd.DataFrame({'Faces':self.faces,'Weights':self._weight})\n",
    "    \n",
    "    def change_weight(self, face, new_weight):\n",
    "        \"\"\"change_weight(face, new weight): To alter the default equal weight among die faces, pass the face you wish \n",
    "            the change the weight of and the weight to which to change it to the change_weight() method. \"\"\"\n",
    "        if face in self.faces:\n",
    "            if isinstance(new_weight,float):\n",
    "                self._faces_weight.loc[self._faces_weight[\"Faces\"] == face, \"Weights\"] = new_weight\n",
    "            else:\n",
    "                try:\n",
    "                    float(new_weight)\n",
    "                    self._faces_weight.loc[self._faces_weight[\"Faces\"] == face, \"Weights\"] = new_weight\n",
    "                except:\n",
    "                    raise Exception('New weight must be float or convertable to float!')\n",
    "\n",
    "        else:\n",
    "            raise Exception('Face is not in list of faces') \n",
    "    \n",
    "    def roll(self,num_rolls=1):\n",
    "        \"\"\"Rolls the die num_rolls times using np.random.choice. Stores results of each roll in .results as a dataframe. \"\"\"\n",
    "        self._faces_weight['Probability'] = self._faces_weight['Weights']/self._faces_weight['Weights'].sum()\n",
    "        outcomes = np.random.choice(self._faces_weight['Faces'],size=num_rolls, p=self._faces_weight['Probability'])\n",
    "        self.results = pd.DataFrame({'Results':outcomes})\n",
    "        self.results.index.name = 'Roll'\n",
    "\n",
    "    def show_weights(self):\n",
    "        \"\"\"Returns a dataframe of the die faces and their corresponding weights.\"\"\"\n",
    "        return self._faces_weight[['Faces','Weights']]\n",
    "\n",
    "class Game():\n",
    "    \"\"\" INITIALIZATION\n",
    "        INPUTS: \n",
    "            dies: a list of die objects created by the Die class. Each die object must have the same faces, although each die \n",
    "                object can have different weights associated with the die faces. \n",
    "        ATTRIBUTES:\n",
    "            Game.dies: a list of die objects passed through the Game initialization method. \n",
    "        METHODS:\n",
    "            Game.play(N): Rolls each die object N times, stores results in a dataframe Game._results. \n",
    "            Game.show(form='Wide'): form = 'Wide' (default) or form = 'Narrow'. If form = 'Wide', Game.show() returns \n",
    "                the Game._results dataframe. If form = 'Narrow', Game.show() returns a multi-index array where the roll \n",
    "                number and die ID are the indices, and the value are the outcomes of the associates roll number and die ID. \n",
    "    \"\"\"\n",
    "    def __init__(self, dies):\n",
    "        if isinstance(dies,list):\n",
    "            self.dies = dies\n",
    "        else:\n",
    "            raise Exception('Dies object must be passed as a list!')\n",
    "        \n",
    "    def play(self, N):\n",
    "        \"\"\"Rolls each die object N times, stores results in a dataframe Game._results. \"\"\"\n",
    "        self._results = pd.DataFrame()\n",
    "        i = 1\n",
    "        for die in self.dies:\n",
    "            die.roll(num_rolls = N)\n",
    "            self._results[f\"Die #{i}\"] = die.results['Results'] \n",
    "            i += 1\n",
    "\n",
    "    def show(self,form='Wide'):\n",
    "        \"\"\"form = 'Wide' (default) or form = 'Narrow'. If form = 'Wide', Game.show() returns \n",
    "                the Game._results dataframe. If form = 'Narrow', Game.show() returns a multi-index array where the roll \n",
    "                number and die ID are the indices, and the value are the outcomes of the associates roll number and die ID. \"\"\"\n",
    "        if form == 'Wide':\n",
    "            return self._results\n",
    "        elif form == 'Narrow':\n",
    "            self._results['Roll'] = self._results.index\n",
    "            narrow = pd.wide_to_long(self._results, stubnames = 'Die #',i=[\"Roll\"],j='Die')\n",
    "            narrow = narrow.rename(columns={'Die #':'Result'})\n",
    "            return narrow\n",
    "\n",
    "class Analyzer():\n",
    "    \"\"\" INITIALIZATION\n",
    "        INPUTS: \n",
    "            game: the game object generated by the Game class. \n",
    "        ATTRIBUTES:\n",
    "            Analyzer.game: the game object passed through the Analyzer initialization method. \n",
    "            Analyzer.face_counts: Accessible after executing the face_counts_per_roll() method. Analyzer.face_counts is a dataframe\n",
    "                where each row corresponds to a roll event, and each column is a face of the die object. The values of this dataframe\n",
    "                correspond to the number of times a given face was rolled in a given roll event. \n",
    "            Analyzer.num_jackpots: The number of times all dice rolled the same face. \n",
    "            Analyzer.combo: A multi-index dataframe where the indices are different combinations of rolled faces, and the values correspond\n",
    "                to the number of times those faces were rolled. This dataframe is sorted in descending order, so combinations with the highest\n",
    "                frequency of occurrence are at the top.  \n",
    "        METHODS:\n",
    "            Analyzer.face_counts_per_roll(): Counts the number of each possible face that was rolled for each roll event. Returns the dataframe\n",
    "                .face_counts. \n",
    "            Analyzer.jackpot(): Counts the number of times all dice rolled the same face. Returns the integer .num_jackpots.\n",
    "            Analyzer.Combo(): Counts the frequency of a given combination of rolled faces, sorted in descending order based on frequency. \n",
    "                Returns the dataframe .combo. \n",
    "\n",
    "    \"\"\"\n",
    "    def __init__(self, game):\n",
    "        self.game = game\n",
    "    \n",
    "    def face_counts_per_roll(self):\n",
    "        \"\"\"Counts the number of each possible face that was rolled for each roll event using pd.get_dummies. Returns the dataframe .face_counts. \"\"\"\n",
    "        face_counts = self.game.show(form='Narrow')\n",
    "        face_counts = pd.get_dummies(face_counts.Result)\n",
    "        self.face_counts = face_counts.groupby(['Roll']).sum()\n",
    "        return self.face_counts\n",
    "\n",
    "    def jackpot(self):\n",
    "        \"\"\"Counts the number of times all dice rolled the same face. Returns the integer .num_jackpots.\"\"\"\n",
    "        self.face_counts_per_roll()\n",
    "        jackpotdf = self.face_counts.apply(lambda x: np.count_nonzero(x, axis=0),axis=1)\n",
    "        self.jackpotdf = jackpotdf.loc[jackpotdf == 1]\n",
    "        num_jackpots = len(self.jackpotdf)\n",
    "        return num_jackpots\n",
    "    \n",
    "    def Combo(self):\n",
    "        \"\"\"Counts the frequency of a given combination of rolled faces, sorted in descending order based on frequency. Returns the dataframe .combo. \"\"\"\n",
    "        self.face_counts_per_roll()\n",
    "        self.combo = pd.pivot_table(self.game.show(), index=self.game.show().columns.to_list()[:-1],aggfunc=np.count_nonzero)\n",
    "        self.combo = self.combo.rename(columns = {'Roll':'Count'})\n",
    "        self.combo = self.combo.sort_values(by='Count',ascending=False)"
   ]
  },
  {
   "cell_type": "markdown",
   "metadata": {},
   "source": [
    "# Test Module"
   ]
  },
  {
   "cell_type": "code",
   "execution_count": 2,
   "metadata": {},
   "outputs": [],
   "source": [
    "from montecarlo import Die, Game, Analyzer\n",
    "import unittest\n",
    "\n",
    "class MontecarloTestSuite(unittest.TestCase):\n",
    "\n",
    "    def test_change_weight(self):\n",
    "        # Test that the change_weight() method of the Die class correctly changes the weight of the assigned face. \n",
    "        faces = [1,2,3,4]\n",
    "        dice = Die(faces)\n",
    "        dice.change_weight(3,2)\n",
    "        df_faces_weights = dice.show_weights()\n",
    "        assert df_faces_weights['Weights'][2] == 2\n",
    "\n",
    "    def test_roll(self):\n",
    "        # Test that the roll() method of the Die class generates a dataframe object with length N for number of rolls. \n",
    "        faces = [1,2,3,4]\n",
    "        dice = Die(faces)\n",
    "        dice.roll(num_rolls=10)\n",
    "        assert len(dice.results) == 10\n",
    "\n",
    "    def test_play(self):\n",
    "        # Test that the play() method of the Game class generates a dataframe object with length N for number of rolls. \n",
    "        faces = [1,2,3,4]\n",
    "        dice = Die(faces)\n",
    "        game = Game([dice])\n",
    "        game.play(10)\n",
    "        assert len(game._results) == 10\n",
    "\n",
    "    def test_show_wide(self):\n",
    "        # Test that the show() method of the Game class generates a wide form dataframe object with length N for number of rolls and width W for number of dice. \n",
    "        faces = [1,2,3,4]\n",
    "        dice = Die(faces)\n",
    "        game = Game([dice,dice,dice])\n",
    "        game.play(10)\n",
    "        df = game.show()\n",
    "        assert (df.shape[0] == 10 and df.shape[1]==3)     \n",
    "\n",
    "    def test_show_narrow(self):\n",
    "        # Test that the show() method of the Game class generates a narrow form dataframe object with length N x W for number of rolls N and number of dice W. \n",
    "        faces = [1,2,3,4]\n",
    "        dice = Die(faces)\n",
    "        game = Game([dice,dice,dice])\n",
    "        game.play(10)\n",
    "        df = game.show(form='Narrow')\n",
    "        assert (len(df) == 30)\n",
    "\n",
    "    def test_face_counts_per_roll(self):\n",
    "        # Tests that the face_counts_per_roll() method of the Analyzer class produces a dataframe of size N x F for number of rolls N and number of faces F, and has an internal sum of values (face counts) equal to N x W for N number of rolls and W number of dice. \n",
    "        faces = [1,2,3,4,5]\n",
    "        dice = Die(faces)\n",
    "        game = Game([dice,dice,dice])\n",
    "        game.play(20)\n",
    "        Analysis=Analyzer(game)\n",
    "        df = Analysis.face_counts_per_roll()\n",
    "        shape = df.shape\n",
    "        internal_sum = df.sum().sum()\n",
    "        assert (shape[0]==20 and shape[1]==5 and internal_sum==60)\n",
    "\n",
    "    def test_jackpot(self):\n",
    "        # Tests that the jackpot() method of the Analyzer class returns an integer. \n",
    "        faces = [1,2,3,4,5]\n",
    "        dice = Die(faces)\n",
    "        game = Game([dice,dice,dice])\n",
    "        game.play(20)\n",
    "        Analysis=Analyzer(game)\n",
    "        assert isinstance(Analysis.jackpot(),int) == True\n",
    "\n",
    "    def test_combo(self):\n",
    "        # Tests that the combo() method of the Analyzer class returns a dataframe of only 1 column with a sum of combinations equal to the number of rolls minus 1. \n",
    "        faces = [1,2,3,4,5,6]\n",
    "        dice = Die(faces)\n",
    "        game = Game([dice,dice,dice,dice,dice])\n",
    "        game.play(1000)\n",
    "        Analysis=Analyzer(game)\n",
    "        Analysis.Combo()\n",
    "        assert(Analysis.combo.shape[1]==1 and Analysis.combo['Count'].sum()==999)\n",
    "                   \n"
   ]
  },
  {
   "cell_type": "markdown",
   "metadata": {},
   "source": [
    "# Test Results"
   ]
  },
  {
   "cell_type": "code",
   "execution_count": 3,
   "metadata": {},
   "outputs": [
    {
     "name": "stderr",
     "output_type": "stream",
     "text": [
      "test_change_weight (__main__.MontecarloTestSuite) ... ok\n",
      "test_combo (__main__.MontecarloTestSuite) ... ok\n",
      "test_face_counts_per_roll (__main__.MontecarloTestSuite) ... ok\n",
      "test_jackpot (__main__.MontecarloTestSuite) ... ok\n",
      "test_play (__main__.MontecarloTestSuite) ... ok\n",
      "test_roll (__main__.MontecarloTestSuite) ... ok\n",
      "test_show_narrow (__main__.MontecarloTestSuite) ... ok\n",
      "test_show_wide (__main__.MontecarloTestSuite) ... ok\n",
      "\n",
      "----------------------------------------------------------------------\n",
      "Ran 8 tests in 0.060s\n",
      "\n",
      "OK\n"
     ]
    },
    {
     "data": {
      "text/plain": [
       "<unittest.main.TestProgram at 0x1ba0db95640>"
      ]
     },
     "execution_count": 3,
     "metadata": {},
     "output_type": "execute_result"
    }
   ],
   "source": [
    "unittest.main(argv=[''], verbosity=2, exit=False)"
   ]
  },
  {
   "cell_type": "markdown",
   "metadata": {},
   "source": [
    "# Scenarios"
   ]
  },
  {
   "cell_type": "markdown",
   "metadata": {},
   "source": [
    "## Scenario 1: 2-headed Coin"
   ]
  },
  {
   "cell_type": "code",
   "execution_count": 4,
   "metadata": {},
   "outputs": [],
   "source": [
    "from montecarlo import Die, Game, Analyzer"
   ]
  },
  {
   "cell_type": "code",
   "execution_count": 5,
   "metadata": {},
   "outputs": [],
   "source": [
    "Faces = ['H','T']\n",
    "Fair = Die(Faces)\n",
    "Unfair = Die(Faces)\n",
    "Unfair.change_weight('H',5)"
   ]
  },
  {
   "cell_type": "markdown",
   "metadata": {},
   "source": [
    "Play a game of 1,000 flips with three coins with all fair dice. "
   ]
  },
  {
   "cell_type": "code",
   "execution_count": 6,
   "metadata": {},
   "outputs": [
    {
     "name": "stdout",
     "output_type": "stream",
     "text": [
      "0.253\n"
     ]
    }
   ],
   "source": [
    "Game = Game([Fair,Fair,Fair])\n",
    "Game.play(1000)\n",
    "Analysis = Analyzer(Game)\n",
    "Fair_Jackpot = Analysis.jackpot()/1000\n",
    "print(Fair_Jackpot)"
   ]
  },
  {
   "cell_type": "markdown",
   "metadata": {},
   "source": [
    "Play a game of 1,000 flips with three coins with two unfair dice and one fair die"
   ]
  },
  {
   "cell_type": "code",
   "execution_count": 7,
   "metadata": {},
   "outputs": [
    {
     "name": "stdout",
     "output_type": "stream",
     "text": [
      "0.348\n"
     ]
    }
   ],
   "source": [
    "from montecarlo import Game\n",
    "Unfair_Game = Game([Unfair,Fair,Unfair])\n",
    "Unfair_Game.play(1000)\n",
    "Analysis = Analyzer(Unfair_Game)\n",
    "Unfair_Jackpot = Analysis.jackpot()/1000\n",
    "print(Unfair_Jackpot)"
   ]
  },
  {
   "cell_type": "code",
   "execution_count": 8,
   "metadata": {},
   "outputs": [
    {
     "data": {
      "image/png": "[encoded data removed]",
      "text/plain": [
       "<Figure size 936x576 with 1 Axes>"
      ]
     },
     "metadata": {
      "needs_background": "light"
     },
     "output_type": "display_data"
    }
   ],
   "source": [
    "import matplotlib.pyplot as plt\n",
    "plt.figure(figsize=(13,8))\n",
    "plt.bar(['3 Fair Die','2 Unfair Die, 1 Fair Dice'],[Fair_Jackpot, Unfair_Jackpot],color='gray',edgecolor='black')\n",
    "plt.ylabel('Relative Frequency of Jackpots')\n",
    "plt.title('The Impact of Unfair 2-sided Die on Relative Frequency of Jackpots',loc='left')\n",
    "plt.show()"
   ]
  },
  {
   "cell_type": "markdown",
   "metadata": {},
   "source": [
    "## Scenario 2: 6-sided Die\n",
    "Note: I know the prompt asked to play the game 10,000 times, but I found that at only 10,000 rolls, I had run-to-run variance in the relative frequency of jackpots. I increased the number of games played to 100,000 and that seemed to allow the relative frequency of jackpots to converge to approximately 0.00075 (1,333-to-1 odds) and 0.00085 (1,176-to-1  odds) for all fair and some unfair die, respectively."
   ]
  },
  {
   "cell_type": "code",
   "execution_count": 9,
   "metadata": {},
   "outputs": [],
   "source": [
    "from montecarlo import Die, Game, Analyzer"
   ]
  },
  {
   "cell_type": "code",
   "execution_count": 10,
   "metadata": {},
   "outputs": [],
   "source": [
    "Faces = [1,2,3,4,5,6]\n",
    "Die1 = Die(Faces)\n",
    "Die1.change_weight(6,5)\n",
    "Die2 = Die(Faces)\n",
    "Die2.change_weight(1,5)\n",
    "Die = Die(Faces)"
   ]
  },
  {
   "cell_type": "code",
   "execution_count": 11,
   "metadata": {},
   "outputs": [],
   "source": [
    "Fair_Game = Game([Die, Die, Die, Die, Die])\n",
    "Fair_Game.play(100000)\n",
    "Analysis = Analyzer(Fair_Game)\n",
    "Fair_Jackpots = Analysis.jackpot()/100000\n",
    "Analysis.Combo()\n",
    "Fair_Combo = Analysis.combo[:10]\n"
   ]
  },
  {
   "cell_type": "code",
   "execution_count": 12,
   "metadata": {},
   "outputs": [],
   "source": [
    "from montecarlo import Game\n",
    "Unfair_Game = Game([Die1,Die1,Die2,Die,Die])\n",
    "Unfair_Game.play(100000)\n",
    "Analysis = Analyzer(Unfair_Game)\n",
    "Unfair_Jackpots = Analysis.jackpot()/100000\n",
    "Analysis.Combo()\n",
    "Unfair_Combo = Analysis.combo[:10]\n"
   ]
  },
  {
   "cell_type": "code",
   "execution_count": 13,
   "metadata": {},
   "outputs": [
    {
     "data": {
      "image/png": "[encoded data removed]",
      "text/plain": [
       "<Figure size 936x576 with 1 Axes>"
      ]
     },
     "metadata": {
      "needs_background": "light"
     },
     "output_type": "display_data"
    }
   ],
   "source": [
    "import matplotlib.pyplot as plt\n",
    "plt.figure(figsize=(13,8))\n",
    "plt.bar(['All Fair Die','2 Type 1, 1 Type 2, 2 Fair Dice'],[Fair_Jackpots, Unfair_Jackpots],color='gray',edgecolor='black')\n",
    "plt.ylabel('Relative Frequency of Jackpots')\n",
    "plt.title('The Impact of Unfair 6-sided Die on Relative Frequency of Jackpots',loc='left')\n",
    "plt.show()"
   ]
  },
  {
   "cell_type": "markdown",
   "metadata": {},
   "source": [
    "Lets get the combinations of the rolled faces and their corresponding frequency, then plot them in a bar chart. "
   ]
  },
  {
   "cell_type": "code",
   "execution_count": 14,
   "metadata": {},
   "outputs": [
    {
     "data": {
      "image/png": "[encoded data removed]",
      "text/plain": [
       "<Figure size 936x576 with 2 Axes>"
      ]
     },
     "metadata": {
      "needs_background": "light"
     },
     "output_type": "display_data"
    }
   ],
   "source": [
    "name_fair = []\n",
    "frequency_fair = []\n",
    "for i in range(len(Fair_Combo)):\n",
    "    name_fair.append(''.join(str(e) for e in list(Fair_Combo.index[i])))\n",
    "    frequency_fair.append(Fair_Combo.values[i][0])\n",
    "\n",
    "name_unfair = []\n",
    "frequency_unfair = []\n",
    "for i in range(len(Unfair_Combo)):\n",
    "    name_unfair.append(''.join(str(e) for e in list(Unfair_Combo.index[i])))\n",
    "    frequency_unfair.append(Unfair_Combo.values[i][0])\n",
    "\n",
    "fig, ax = plt.subplots(2,figsize=(13,8))\n",
    "ax[0].bar(name_fair, frequency_fair,color='gray',edgecolor='black')\n",
    "ax[0].set(ylabel = 'Combination Frequency')\n",
    "ax[1].bar(name_unfair, frequency_unfair,color='gray',edgecolor='black')\n",
    "ax[1].set(ylabel = 'Combination Frequency')\n",
    "ax[1].set(xlabel = 'Rolled Face Combination')\n",
    "ax[0].set(title ='Frequency of Combinations in 100,000 rolls using Fair Dice')\n",
    "ax[1].set(title ='Frequency of Combinations in 100,000 rolls using 2 Type 1, 1 Type 2, and 2 Fair Dice')\n",
    "plt.show()"
   ]
  },
  {
   "cell_type": "markdown",
   "metadata": {},
   "source": [
    "## Scenario 3: Roman Alphabet"
   ]
  },
  {
   "cell_type": "code",
   "execution_count": 15,
   "metadata": {},
   "outputs": [],
   "source": [
    "import pandas as pd\n",
    "import numpy as np\n",
    "from montecarlo import Die, Game, Analyzer\n",
    "\n",
    "Alphabet = pd.read_csv('roman_alphabet.txt',delimiter='\\t',header=None,names=['Letter','Weight'])\n",
    "Alphabet['Letter'] = Alphabet['Letter'].astype('str')"
   ]
  },
  {
   "cell_type": "code",
   "execution_count": 16,
   "metadata": {},
   "outputs": [],
   "source": [
    "Die = Die(Alphabet['Letter'].tolist())\n",
    "\n",
    "for i in range(len(Alphabet)):\n",
    "    Die.change_weight(Alphabet['Letter'].iloc[i], Alphabet['Weight'].iloc[i])"
   ]
  },
  {
   "cell_type": "code",
   "execution_count": 17,
   "metadata": {},
   "outputs": [],
   "source": [
    "Game = Game([Die, Die, Die, Die, Die])\n",
    "Result_list = []\n",
    "for i in range(10):\n",
    "    rand_list = np.random.randint(1000,size=10)\n",
    "    Game.play(1000)\n",
    "    Result_list.append(Game.show().iloc[rand_list])\n",
    "    "
   ]
  },
  {
   "cell_type": "code",
   "execution_count": 18,
   "metadata": {},
   "outputs": [
    {
     "data": {
      "text/plain": [
       "[     Die #1 Die #2 Die #3 Die #4 Die #5\n",
       " Roll                                   \n",
       " 789       L      R      D      M      E\n",
       " 456       O      R      O      R      S\n",
       " 117       C      D      G      T      P\n",
       " 894       L      V      G      E      I\n",
       " 105       S      B      A      E      F\n",
       " 547       E      G      N      S      S\n",
       " 796       U      E      A      U      U\n",
       " 233       E      E      M      C      I\n",
       " 849       A      E      E      R      H\n",
       " 312       A      G      W      R      T,\n",
       "      Die #1 Die #2 Die #3 Die #4 Die #5\n",
       " Roll                                   \n",
       " 538       N      O      R      A      B\n",
       " 257       E      S      H      L      T\n",
       " 468       D      R      B      N      M\n",
       " 602       F      E      G      G      P\n",
       " 793       H      A      L      T      S\n",
       " 22        G      L      S      R      T\n",
       " 618       E      W      S      O      I\n",
       " 440       N      B      T      E      E\n",
       " 904       G      O      I      T      S\n",
       " 841       N      E      S      O      O,\n",
       "      Die #1 Die #2 Die #3 Die #4 Die #5\n",
       " Roll                                   \n",
       " 685       T      E      S      W      A\n",
       " 503       R      T      L      N      P\n",
       " 418       P      Y      F      U      R\n",
       " 545       L      W      G      A      M\n",
       " 960       E      A      S      O      Y\n",
       " 704       G      O      E      P      L\n",
       " 914       R      N      C      I      E\n",
       " 352       H      M      H      O      J\n",
       " 697       R      A      S      H      C\n",
       " 427       P      O      A      L      S,\n",
       "      Die #1 Die #2 Die #3 Die #4 Die #5\n",
       " Roll                                   \n",
       " 491       F      W      C      S      O\n",
       " 656       N      N      T      N      H\n",
       " 436       O      N      L      R      R\n",
       " 816       I      D      F      R      O\n",
       " 774       B      K      N      B      L\n",
       " 452       P      A      D      A      T\n",
       " 482       E      S      C      T      C\n",
       " 22        G      M      E      C      S\n",
       " 330       G      M      E      G      K\n",
       " 95        E      O      T      T      H,\n",
       "      Die #1 Die #2 Die #3 Die #4 Die #5\n",
       " Roll                                   \n",
       " 49        U      N      O      R      U\n",
       " 121       S      N      S      A      O\n",
       " 465       T      E      A      O      E\n",
       " 142       L      G      Y      E      C\n",
       " 235       I      D      T      A      P\n",
       " 593       N      H      I      R      U\n",
       " 84        F      M      T      T      D\n",
       " 259       L      A      U      O      D\n",
       " 506       Y      I      N      N      M\n",
       " 831       A      E      T      R      E,\n",
       "      Die #1 Die #2 Die #3 Die #4 Die #5\n",
       " Roll                                   \n",
       " 315       O      L      R      R      Y\n",
       " 319       H      E      O      N      Q\n",
       " 585       A      F      L      E      L\n",
       " 739       F      A      U      R      S\n",
       " 97        N      M      S      I      I\n",
       " 410       G      I      I      U      O\n",
       " 158       B      Y      C      D      I\n",
       " 131       F      C      S      E      D\n",
       " 205       H      A      R      O      S\n",
       " 557       R      E      T      D      U,\n",
       "      Die #1 Die #2 Die #3 Die #4 Die #5\n",
       " Roll                                   \n",
       " 657       X      H      D      C      G\n",
       " 4         D      R      M      I      B\n",
       " 493       T      T      C      I      R\n",
       " 450       I      L      N      C      G\n",
       " 803       T      H      E      O      R\n",
       " 886       L      E      B      S      B\n",
       " 430       D      H      O      L      A\n",
       " 483       E      R      M      U      A\n",
       " 303       S      T      S      O      T\n",
       " 559       R      R      O      I      S,\n",
       "      Die #1 Die #2 Die #3 Die #4 Die #5\n",
       " Roll                                   \n",
       " 211       T      E      A      N      S\n",
       " 714       E      B      N      M      R\n",
       " 876       B      E      E      E      G\n",
       " 496       L      D      Y      L      A\n",
       " 597       E      I      C      I      M\n",
       " 358       T      V      L      Y      R\n",
       " 618       S      I      M      F      H\n",
       " 581       M      I      A      U      N\n",
       " 540       A      O      A      I      L\n",
       " 962       I      S      N      N      P,\n",
       "      Die #1 Die #2 Die #3 Die #4 Die #5\n",
       " Roll                                   \n",
       " 761       J      F      G      R      I\n",
       " 245       O      A      N      C      N\n",
       " 333       L      F      A      N      C\n",
       " 963       C      U      T      T      I\n",
       " 774       E      R      T      I      U\n",
       " 796       T      U      T      M      O\n",
       " 611       C      I      M      M      D\n",
       " 954       U      T      E      Y      V\n",
       " 2         N      I      C      T      I\n",
       " 551       E      L      F      O      A,\n",
       "      Die #1 Die #2 Die #3 Die #4 Die #5\n",
       " Roll                                   \n",
       " 862       D      A      O      R      C\n",
       " 970       E      J      O      L      O\n",
       " 375       O      C      S      L      A\n",
       " 943       R      I      F      T      V\n",
       " 67        C      E      O      Y      T\n",
       " 571       D      R      A      C      Y\n",
       " 574       D      R      D      R      O\n",
       " 87        T      N      N      S      A\n",
       " 904       M      A      R      A      R\n",
       " 586       D      A      R      Y      D]"
      ]
     },
     "execution_count": 18,
     "metadata": {},
     "output_type": "execute_result"
    }
   ],
   "source": [
    "Result_list"
   ]
  },
  {
   "cell_type": "markdown",
   "metadata": {},
   "source": [
    "I ran this 5 times and looked at 10 random samples of 10, for a total of 500 rolls. Across the 500 rolls, I found 65 words that sounded like English words. My criteria for selecting words was basically this: can I pronounce this word. If yes, I counted it, if no, then I didn't count it. Based on that criteria, the roman alphabet contains combinations of which approximately 13% sound like English words. "
   ]
  },
  {
   "cell_type": "markdown",
   "metadata": {},
   "source": [
    "# Directory Listing"
   ]
  },
  {
   "cell_type": "code",
   "execution_count": 23,
   "metadata": {},
   "outputs": [],
   "source": [
    "%reload_ext powershellmagic"
   ]
  },
  {
   "cell_type": "code",
   "execution_count": 25,
   "metadata": {},
   "outputs": [
    {
     "name": "stdout",
     "output_type": "stream",
     "text": [
      "\n",
      "\n",
      "    Directory: C:\\Users\\alexa\\DS-5100-Project-Repo\\Montecarlo\n",
      "\n",
      "\n",
      "Mode                 LastWriteTime         Length Name                                                                 \n",
      "----                 -------------         ------ ----                                                                 \n",
      "d-----         11/5/2022   5:27 PM                montecarlo                                                           \n",
      "d-----        11/21/2022  10:48 AM                montecarlo.egg-info                                                  \n",
      "d-----         11/5/2022   5:24 PM                tests                                                                \n",
      "-a----         11/5/2022   5:34 PM            464 setup.py                                                             \n",
      "\n",
      "\n",
      "    Directory: C:\\Users\\alexa\\DS-5100-Project-Repo\\Montecarlo\\montecarlo\n",
      "\n",
      "\n",
      "Mode                 LastWriteTime         Length Name                                                                 \n",
      "----                 -------------         ------ ----                                                                 \n",
      "d-----        11/21/2022  10:01 AM                __pycache__                                                          \n",
      "-a----        11/21/2022  10:00 AM           7937 montecarlo.py                                                        \n",
      "-a----         11/5/2022   5:32 PM             43 __init__.py                                                          \n",
      "\n",
      "\n",
      "    Directory: C:\\Users\\alexa\\DS-5100-Project-Repo\\Montecarlo\\montecarlo\\__pycache__\n",
      "\n",
      "\n",
      "Mode                 LastWriteTime         Length Name                                                                 \n",
      "----                 -------------         ------ ----                                                                 \n",
      "-a----         11/5/2022   5:28 PM           8808 montecarlo.cpython-310.pyc                                           \n",
      "-a----        11/21/2022  10:01 AM           8411 montecarlo.cpython-39.pyc                                            \n",
      "-a----         11/5/2022   5:32 PM            233 __init__.cpython-39.pyc                                              \n",
      "\n",
      "\n",
      "    Directory: C:\\Users\\alexa\\DS-5100-Project-Repo\\Montecarlo\\montecarlo.egg-info\n",
      "\n",
      "\n",
      "Mode                 LastWriteTime         Length Name                                                                 \n",
      "----                 -------------         ------ ----                                                                 \n",
      "-a----        11/21/2022  10:48 AM              1 dependency_links.txt                                                 \n",
      "-a----        11/21/2022  10:48 AM            350 PKG-INFO                                                             \n",
      "-a----        11/21/2022  10:48 AM             28 requires.txt                                                         \n",
      "-a----        11/21/2022  10:48 AM            225 SOURCES.txt                                                          \n",
      "-a----        11/21/2022  10:48 AM             11 top_level.txt                                                        \n",
      "\n",
      "\n",
      "    Directory: C:\\Users\\alexa\\DS-5100-Project-Repo\\Montecarlo\\tests\n",
      "\n",
      "\n",
      "Mode                 LastWriteTime         Length Name                                                                 \n",
      "----                 -------------         ------ ----                                                                 \n",
      "-a----        11/21/2022  10:14 AM           1670 montecarlo_results.txt                                               \n",
      "-a----         11/5/2022   5:09 PM           3324 montecarlo_test.py                                                   \n",
      "\n",
      "\n"
     ]
    }
   ],
   "source": [
    "%%powershell\n",
    "cd..\n",
    "cd Montecarlo\n",
    "Get-ChildItem -Recurse"
   ]
  },
  {
   "cell_type": "markdown",
   "metadata": {},
   "source": [
    "# Installation Output Listing"
   ]
  },
  {
   "cell_type": "code",
   "execution_count": 26,
   "metadata": {},
   "outputs": [
    {
     "name": "stdout",
     "output_type": "stream",
     "text": [
      "Obtaining file:///C:/Users/alexa/DS-5100-Project-Repo/Montecarlo\n",
      "Requirement already satisfied: pandas>=1.3.4 in c:\\users\\alexa\\anaconda3\\lib\\site-packages (from montecarlo==1.0.0) (1.3.4)\n",
      "Requirement already satisfied: numpy>=1.20.3 in c:\\users\\alexa\\anaconda3\\lib\\site-packages (from montecarlo==1.0.0) (1.20.3)\n",
      "Requirement already satisfied: python-dateutil>=2.7.3 in c:\\users\\alexa\\anaconda3\\lib\\site-packages (from pandas>=1.3.4->montecarlo==1.0.0) (2.8.2)\n",
      "Requirement already satisfied: pytz>=2017.3 in c:\\users\\alexa\\anaconda3\\lib\\site-packages (from pandas>=1.3.4->montecarlo==1.0.0) (2021.3)\n",
      "Requirement already satisfied: six>=1.5 in c:\\users\\alexa\\anaconda3\\lib\\site-packages (from python-dateutil>=2.7.3->pandas>=1.3.4->montecarlo==1.0.0) (1.16.0)\n",
      "Installing collected packages: montecarlo\n",
      "  Attempting uninstall: montecarlo\n",
      "    Found existing installation: montecarlo 1.0.0\n",
      "    Uninstalling montecarlo-1.0.0:\n",
      "      Successfully uninstalled montecarlo-1.0.0\n",
      "  Running setup.py develop for montecarlo\n",
      "Successfully installed montecarlo-1.0.0\n"
     ]
    }
   ],
   "source": [
    "%%powershell\n",
    "cd..\n",
    "cd Montecarlo\n",
    "pip install -e."
   ]
  },
  {
   "cell_type": "code",
   "execution_count": null,
   "metadata": {},
   "outputs": [],
   "source": []
  }
 ],
 "metadata": {
  "kernelspec": {
   "display_name": "Python 3 (ipykernel)",
   "language": "python",
   "name": "python3"
  },
  "language_info": {
   "codemirror_mode": {
    "name": "ipython",
    "version": 3
   },
   "file_extension": ".py",
   "mimetype": "text/x-python",
   "name": "python",
   "nbconvert_exporter": "python",
   "pygments_lexer": "ipython3",
   "version": "3.9.7"
  },
  "vscode": {
   "interpreter": {
    "hash": "277d713a2869ad522e0f58de96fa3cb2620734b34dd3b3afd7f1966d69d2580f"
   }
  }
 },
 "nbformat": 4,
 "nbformat_minor": 4
}
