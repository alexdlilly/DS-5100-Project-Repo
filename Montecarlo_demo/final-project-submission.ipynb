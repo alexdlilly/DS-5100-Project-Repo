{
 "cells": [
  {
   "cell_type": "markdown",
   "metadata": {},
   "source": [
    "# Metadata\n",
    "Title: Final Project for DS5100 2022  \n",
    "Date: November 22, 2022  \n",
    "Name: Alexander Lilly  \n",
    "Student ID: kzr3fb  \n",
    "Notebook GitHub URL: https://github.com/alexdlilly/DS-5100-Project-Repo/blob/main/Montecarlo_demo/final-project-submission.ipynb  \n",
    "All Files GitHub URL: https://github.com/alexdlilly/DS-5100-Project-Repo  "
   ]
  },
  {
   "cell_type": "markdown",
   "metadata": {},
   "source": [
    "# The Monte Carlo Module"
   ]
  },
  {
   "cell_type": "code",
   "execution_count": 1,
   "metadata": {},
   "outputs": [],
   "source": [
    "import numpy as np\n",
    "import pandas as pd\n",
    "class Die:\n",
    "    \"\"\" INITIALIZATION\n",
    "        INPUTS: \n",
    "            faces = a list of possible outcomes for a given random event. For example, for a 6-sided die, faces would \n",
    "                    be a list of length 6 where each element represents a face of the dice. By default, the Die class\n",
    "                    assumes equal probabilistic weights for each possible outcome. \n",
    "        ATTRIBUTES:\n",
    "            Die.faces = a list of possible outcomes associated with the Die object. \n",
    "            Die.results = Accesible only after the roll() method has been executed, Die.results returns a dataframe with \n",
    "                    the roll number as the index and the value as the outcome of the rolled die. \n",
    "        METHODS:\n",
    "            change_weight(face, new weight): To alter the default equal weight among die faces, pass the face you wish \n",
    "            the change the weight of and the weight to which to change it to the change_weight() method. \n",
    "            roll(num_rolls): Rolls the die num_rolls times. Stores results of each roll in .results as a dataframe. \n",
    "            show_weights(): Returns a dataframe of the die faces and their corresponding weights.  \n",
    "    \"\"\"\n",
    "    def __init__(self, faces):\n",
    "        self.faces = faces\n",
    "        self._weight = np.ones(len(faces))\n",
    "        self._faces_weight = pd.DataFrame({'Faces':self.faces,'Weights':self._weight})\n",
    "    \n",
    "    def change_weight(self, face, new_weight):\n",
    "        \"\"\"change_weight(face, new weight): To alter the default equal weight among die faces, pass the face you wish \n",
    "            the change the weight of and the weight to which to change it to the change_weight() method. \"\"\"\n",
    "        if face in self.faces:\n",
    "            if isinstance(new_weight,float):\n",
    "                self._faces_weight.loc[self._faces_weight[\"Faces\"] == face, \"Weights\"] = new_weight\n",
    "            else:\n",
    "                try:\n",
    "                    float(new_weight)\n",
    "                    self._faces_weight.loc[self._faces_weight[\"Faces\"] == face, \"Weights\"] = new_weight\n",
    "                except:\n",
    "                    raise Exception('New weight must be float or convertable to float!')\n",
    "\n",
    "        else:\n",
    "            raise Exception('Face is not in list of faces') \n",
    "    \n",
    "    def roll(self,num_rolls=1):\n",
    "        \"\"\"Rolls the die num_rolls times using np.random.choice. Stores results of each roll in .results as a dataframe. \"\"\"\n",
    "        self._faces_weight['Probability'] = self._faces_weight['Weights']/self._faces_weight['Weights'].sum()\n",
    "        outcomes = np.random.choice(self._faces_weight['Faces'],size=num_rolls, p=self._faces_weight['Probability'])\n",
    "        self.results = pd.DataFrame({'Results':outcomes})\n",
    "        self.results.index.name = 'Roll'\n",
    "\n",
    "    def show_weights(self):\n",
    "        \"\"\"Returns a dataframe of the die faces and their corresponding weights.\"\"\"\n",
    "        return self._faces_weight[['Faces','Weights']]\n",
    "\n",
    "class Game():\n",
    "    \"\"\" INITIALIZATION\n",
    "        INPUTS: \n",
    "            dies: a list of die objects created by the Die class. Each die object must have the same faces, although each die \n",
    "                object can have different weights associated with the die faces. \n",
    "        ATTRIBUTES:\n",
    "            Game.dies: a list of die objects passed through the Game initialization method. \n",
    "        METHODS:\n",
    "            Game.play(N): Rolls each die object N times, stores results in a dataframe Game._results. \n",
    "            Game.show(form='Wide'): form = 'Wide' (default) or form = 'Narrow'. If form = 'Wide', Game.show() returns \n",
    "                the Game._results dataframe. If form = 'Narrow', Game.show() returns a multi-index array where the roll \n",
    "                number and die ID are the indices, and the value are the outcomes of the associates roll number and die ID. \n",
    "    \"\"\"\n",
    "    def __init__(self, dies):\n",
    "        if isinstance(dies,list):\n",
    "            self.dies = dies\n",
    "        else:\n",
    "            raise Exception('Dies object must be passed as a list!')\n",
    "        \n",
    "    def play(self, N):\n",
    "        \"\"\"Rolls each die object N times, stores results in a dataframe Game._results. \"\"\"\n",
    "        self._results = pd.DataFrame()\n",
    "        i = 1\n",
    "        for die in self.dies:\n",
    "            die.roll(num_rolls = N)\n",
    "            self._results[f\"Die #{i}\"] = die.results['Results'] \n",
    "            i += 1\n",
    "\n",
    "    def show(self,form='Wide'):\n",
    "        \"\"\"form = 'Wide' (default) or form = 'Narrow'. If form = 'Wide', Game.show() returns \n",
    "                the Game._results dataframe. If form = 'Narrow', Game.show() returns a multi-index array where the roll \n",
    "                number and die ID are the indices, and the value are the outcomes of the associates roll number and die ID. \"\"\"\n",
    "        if form == 'Wide':\n",
    "            return self._results\n",
    "        elif form == 'Narrow':\n",
    "            self._results['Roll'] = self._results.index\n",
    "            narrow = pd.wide_to_long(self._results, stubnames = 'Die #',i=[\"Roll\"],j='Die')\n",
    "            narrow = narrow.rename(columns={'Die #':'Result'})\n",
    "            return narrow\n",
    "\n",
    "class Analyzer():\n",
    "    \"\"\" INITIALIZATION\n",
    "        INPUTS: \n",
    "            game: the game object generated by the Game class. \n",
    "        ATTRIBUTES:\n",
    "            Analyzer.game: the game object passed through the Analyzer initialization method. \n",
    "            Analyzer.face_counts: Accessible after executing the face_counts_per_roll() method. Analyzer.face_counts is a dataframe\n",
    "                where each row corresponds to a roll event, and each column is a face of the die object. The values of this dataframe\n",
    "                correspond to the number of times a given face was rolled in a given roll event. \n",
    "            Analyzer.num_jackpots: The number of times all dice rolled the same face. \n",
    "            Analyzer.combo: A multi-index dataframe where the indices are different combinations of rolled faces, and the values correspond\n",
    "                to the number of times those faces were rolled. This dataframe is sorted in descending order, so combinations with the highest\n",
    "                frequency of occurrence are at the top.  \n",
    "        METHODS:\n",
    "            Analyzer.face_counts_per_roll(): Counts the number of each possible face that was rolled for each roll event. Returns the dataframe\n",
    "                .face_counts. \n",
    "            Analyzer.jackpot(): Counts the number of times all dice rolled the same face. Returns the integer .num_jackpots.\n",
    "            Analyzer.Combo(): Counts the frequency of a given combination of rolled faces, sorted in descending order based on frequency. \n",
    "                Returns the dataframe .combo. \n",
    "\n",
    "    \"\"\"\n",
    "    def __init__(self, game):\n",
    "        self.game = game\n",
    "    \n",
    "    def face_counts_per_roll(self):\n",
    "        \"\"\"Counts the number of each possible face that was rolled for each roll event using pd.get_dummies. Returns the dataframe .face_counts. \"\"\"\n",
    "        face_counts = self.game.show(form='Narrow')\n",
    "        face_counts = pd.get_dummies(face_counts.Result)\n",
    "        self.face_counts = face_counts.groupby(['Roll']).sum()\n",
    "        return self.face_counts\n",
    "\n",
    "    def jackpot(self):\n",
    "        \"\"\"Counts the number of times all dice rolled the same face. Returns the integer .num_jackpots.\"\"\"\n",
    "        self.face_counts_per_roll()\n",
    "        jackpotdf = self.face_counts.apply(lambda x: np.count_nonzero(x, axis=0),axis=1)\n",
    "        self.jackpotdf = jackpotdf.loc[jackpotdf == 1]\n",
    "        num_jackpots = len(self.jackpotdf)\n",
    "        return num_jackpots\n",
    "    \n",
    "    def Combo(self):\n",
    "        \"\"\"Counts the frequency of a given combination of rolled faces, sorted in descending order based on frequency. Returns the dataframe .combo. \"\"\"\n",
    "        self.face_counts_per_roll()\n",
    "        self.combo = pd.pivot_table(self.game.show(), index=self.game.show().columns.to_list()[:-1],aggfunc=np.count_nonzero)\n",
    "        self.combo = self.combo.rename(columns = {'Roll':'Count'})\n",
    "        self.combo = self.combo.sort_values(by='Count',ascending=False)"
   ]
  },
  {
   "cell_type": "markdown",
   "metadata": {},
   "source": [
    "# Test Module"
   ]
  },
  {
   "cell_type": "code",
   "execution_count": 2,
   "metadata": {},
   "outputs": [],
   "source": [
    "from montecarlo import Die, Game, Analyzer\n",
    "import unittest\n",
    "\n",
    "class MontecarloTestSuite(unittest.TestCase):\n",
    "\n",
    "    def test_change_weight(self):\n",
    "        # Test that the change_weight() method of the Die class correctly changes the weight of the assigned face. \n",
    "        faces = [1,2,3,4]\n",
    "        dice = Die(faces)\n",
    "        dice.change_weight(3,2)\n",
    "        df_faces_weights = dice.show_weights()\n",
    "        assert df_faces_weights['Weights'][2] == 2\n",
    "\n",
    "    def test_roll(self):\n",
    "        # Test that the roll() method of the Die class generates a dataframe object with length N for number of rolls. \n",
    "        faces = [1,2,3,4]\n",
    "        dice = Die(faces)\n",
    "        dice.roll(num_rolls=10)\n",
    "        assert len(dice.results) == 10\n",
    "\n",
    "    def test_play(self):\n",
    "        # Test that the play() method of the Game class generates a dataframe object with length N for number of rolls. \n",
    "        faces = [1,2,3,4]\n",
    "        dice = Die(faces)\n",
    "        game = Game([dice])\n",
    "        game.play(10)\n",
    "        assert len(game._results) == 10\n",
    "\n",
    "    def test_show_wide(self):\n",
    "        # Test that the show() method of the Game class generates a wide form dataframe object with length N for number of rolls and width W for number of dice. \n",
    "        faces = [1,2,3,4]\n",
    "        dice = Die(faces)\n",
    "        game = Game([dice,dice,dice])\n",
    "        game.play(10)\n",
    "        df = game.show()\n",
    "        assert (df.shape[0] == 10 and df.shape[1]==3)     \n",
    "\n",
    "    def test_show_narrow(self):\n",
    "        # Test that the show() method of the Game class generates a narrow form dataframe object with length N x W for number of rolls N and number of dice W. \n",
    "        faces = [1,2,3,4]\n",
    "        dice = Die(faces)\n",
    "        game = Game([dice,dice,dice])\n",
    "        game.play(10)\n",
    "        df = game.show(form='Narrow')\n",
    "        assert (len(df) == 30)\n",
    "\n",
    "    def test_face_counts_per_roll(self):\n",
    "        # Tests that the face_counts_per_roll() method of the Analyzer class produces a dataframe of size N x F for number of rolls N and number of faces F, and has an internal sum of values (face counts) equal to N x W for N number of rolls and W number of dice. \n",
    "        faces = [1,2,3,4,5]\n",
    "        dice = Die(faces)\n",
    "        game = Game([dice,dice,dice])\n",
    "        game.play(20)\n",
    "        Analysis=Analyzer(game)\n",
    "        df = Analysis.face_counts_per_roll()\n",
    "        shape = df.shape\n",
    "        internal_sum = df.sum().sum()\n",
    "        assert (shape[0]==20 and shape[1]==5 and internal_sum==60)\n",
    "\n",
    "    def test_jackpot(self):\n",
    "        # Tests that the jackpot() method of the Analyzer class returns an integer. \n",
    "        faces = [1,2,3,4,5]\n",
    "        dice = Die(faces)\n",
    "        game = Game([dice,dice,dice])\n",
    "        game.play(20)\n",
    "        Analysis=Analyzer(game)\n",
    "        assert isinstance(Analysis.jackpot(),int) == True\n",
    "\n",
    "    def test_combo(self):\n",
    "        # Tests that the combo() method of the Analyzer class returns a dataframe of only 1 column with a sum of combinations equal to the number of rolls minus 1. \n",
    "        faces = [1,2,3,4,5,6]\n",
    "        dice = Die(faces)\n",
    "        game = Game([dice,dice,dice,dice,dice])\n",
    "        game.play(1000)\n",
    "        Analysis=Analyzer(game)\n",
    "        Analysis.Combo()\n",
    "        assert(Analysis.combo.shape[1]==1 and Analysis.combo['Count'].sum()==999)\n",
    "                   \n"
   ]
  },
  {
   "cell_type": "markdown",
   "metadata": {},
   "source": [
    "# Test Results"
   ]
  },
  {
   "cell_type": "code",
   "execution_count": 3,
   "metadata": {},
   "outputs": [
    {
     "name": "stderr",
     "output_type": "stream",
     "text": [
      "test_change_weight (__main__.MontecarloTestSuite) ... ok\n",
      "test_combo (__main__.MontecarloTestSuite) ... ok\n",
      "test_face_counts_per_roll (__main__.MontecarloTestSuite) ... ok\n",
      "test_jackpot (__main__.MontecarloTestSuite) ... ok\n",
      "test_play (__main__.MontecarloTestSuite) ... ok\n",
      "test_roll (__main__.MontecarloTestSuite) ... ok\n",
      "test_show_narrow (__main__.MontecarloTestSuite) ... ok\n",
      "test_show_wide (__main__.MontecarloTestSuite) ... ok\n",
      "\n",
      "----------------------------------------------------------------------\n",
      "Ran 8 tests in 0.073s\n",
      "\n",
      "OK\n"
     ]
    },
    {
     "data": {
      "text/plain": [
       "<unittest.main.TestProgram at 0x1e9c4ecda00>"
      ]
     },
     "execution_count": 3,
     "metadata": {},
     "output_type": "execute_result"
    }
   ],
   "source": [
    "unittest.main(argv=[''], verbosity=2, exit=False)"
   ]
  },
  {
   "cell_type": "markdown",
   "metadata": {},
   "source": [
    "# Scenarios"
   ]
  },
  {
   "cell_type": "markdown",
   "metadata": {},
   "source": [
    "## Scenario 1: 2-headed Coin"
   ]
  },
  {
   "cell_type": "code",
   "execution_count": 4,
   "metadata": {},
   "outputs": [],
   "source": [
    "from montecarlo import Die, Game, Analyzer"
   ]
  },
  {
   "cell_type": "code",
   "execution_count": 5,
   "metadata": {},
   "outputs": [],
   "source": [
    "Faces = ['H','T']\n",
    "Fair = Die(Faces)\n",
    "Unfair = Die(Faces)\n",
    "Unfair.change_weight('H',5)"
   ]
  },
  {
   "cell_type": "markdown",
   "metadata": {},
   "source": [
    "Play a game of 1,000 flips with three coins with all fair dice. "
   ]
  },
  {
   "cell_type": "code",
   "execution_count": 6,
   "metadata": {},
   "outputs": [
    {
     "name": "stdout",
     "output_type": "stream",
     "text": [
      "0.227\n"
     ]
    }
   ],
   "source": [
    "Game = Game([Fair,Fair,Fair])\n",
    "Game.play(1000)\n",
    "Analysis = Analyzer(Game)\n",
    "Fair_Jackpot = Analysis.jackpot()/1000\n",
    "print(Fair_Jackpot)"
   ]
  },
  {
   "cell_type": "markdown",
   "metadata": {},
   "source": [
    "Play a game of 1,000 flips with three coins with two unfair dice and one fair die"
   ]
  },
  {
   "cell_type": "code",
   "execution_count": 7,
   "metadata": {},
   "outputs": [
    {
     "name": "stdout",
     "output_type": "stream",
     "text": [
      "0.37\n"
     ]
    }
   ],
   "source": [
    "from montecarlo import Game\n",
    "Unfair_Game = Game([Unfair,Fair,Unfair])\n",
    "Unfair_Game.play(1000)\n",
    "Analysis = Analyzer(Unfair_Game)\n",
    "Unfair_Jackpot = Analysis.jackpot()/1000\n",
    "print(Unfair_Jackpot)"
   ]
  },
  {
   "cell_type": "code",
   "execution_count": 8,
   "metadata": {},
   "outputs": [
    {
     "data": {
      "image/png": "[encoded data removed]",
      "text/plain": [
       "<Figure size 936x576 with 1 Axes>"
      ]
     },
     "metadata": {
      "needs_background": "light"
     },
     "output_type": "display_data"
    }
   ],
   "source": [
    "import matplotlib.pyplot as plt\n",
    "plt.figure(figsize=(13,8))\n",
    "plt.bar(['3 Fair Die','2 Unfair Die, 1 Fair Dice'],[Fair_Jackpot, Unfair_Jackpot],color='gray',edgecolor='black')\n",
    "plt.ylabel('Relative Frequency of Jackpots')\n",
    "plt.title('The Impact of Unfair 2-sided Die on Relative Frequency of Jackpots',loc='left')\n",
    "plt.show()"
   ]
  },
  {
   "cell_type": "markdown",
   "metadata": {},
   "source": [
    "## Scenario 2: 6-sided Die\n",
    "Note: I know the prompt asked to play the game 10,000 times, but I found that at only 10,000 rolls, I had run-to-run variance in the relative frequency of jackpots. I increased the number of games played to 100,000 and that seemed to allow the relative frequency of jackpots to converge to approximately 0.00075 (1,333-to-1 odds) and 0.00085 (1,176-to-1  odds) for all fair and some unfair die, respectively."
   ]
  },
  {
   "cell_type": "code",
   "execution_count": 9,
   "metadata": {},
   "outputs": [],
   "source": [
    "from montecarlo import Die, Game, Analyzer"
   ]
  },
  {
   "cell_type": "code",
   "execution_count": 10,
   "metadata": {},
   "outputs": [],
   "source": [
    "Faces = [1,2,3,4,5,6]\n",
    "Die1 = Die(Faces)\n",
    "Die1.change_weight(6,5)\n",
    "Die2 = Die(Faces)\n",
    "Die2.change_weight(1,5)\n",
    "Die = Die(Faces)"
   ]
  },
  {
   "cell_type": "code",
   "execution_count": 11,
   "metadata": {},
   "outputs": [],
   "source": [
    "Fair_Game = Game([Die, Die, Die, Die, Die])\n",
    "Fair_Game.play(100000)\n",
    "Analysis = Analyzer(Fair_Game)\n",
    "Fair_Jackpots = Analysis.jackpot()/100000\n",
    "Analysis.Combo()\n",
    "Fair_Combo = Analysis.combo[:10]\n"
   ]
  },
  {
   "cell_type": "code",
   "execution_count": 12,
   "metadata": {},
   "outputs": [],
   "source": [
    "from montecarlo import Game\n",
    "Unfair_Game = Game([Die1,Die1,Die2,Die,Die])\n",
    "Unfair_Game.play(100000)\n",
    "Analysis = Analyzer(Unfair_Game)\n",
    "Unfair_Jackpots = Analysis.jackpot()/100000\n",
    "Analysis.Combo()\n",
    "Unfair_Combo = Analysis.combo[:10]\n"
   ]
  },
  {
   "cell_type": "code",
   "execution_count": 13,
   "metadata": {},
   "outputs": [
    {
     "data": {
      "image/png": "[encoded data removed]",
      "text/plain": [
       "<Figure size 936x576 with 1 Axes>"
      ]
     },
     "metadata": {
      "needs_background": "light"
     },
     "output_type": "display_data"
    }
   ],
   "source": [
    "import matplotlib.pyplot as plt\n",
    "plt.figure(figsize=(13,8))\n",
    "plt.bar(['All Fair Die','2 Type 1, 1 Type 2, 2 Fair Dice'],[Fair_Jackpots, Unfair_Jackpots],color='gray',edgecolor='black')\n",
    "plt.ylabel('Relative Frequency of Jackpots')\n",
    "plt.title('The Impact of Unfair 6-sided Die on Relative Frequency of Jackpots',loc='left')\n",
    "plt.show()"
   ]
  },
  {
   "cell_type": "markdown",
   "metadata": {},
   "source": [
    "Lets get the combinations of the rolled faces and their corresponding frequency, then plot them in a bar chart. "
   ]
  },
  {
   "cell_type": "code",
   "execution_count": 14,
   "metadata": {},
   "outputs": [
    {
     "data": {
      "image/png": "[encoded data removed]",
      "text/plain": [
       "<Figure size 936x576 with 2 Axes>"
      ]
     },
     "metadata": {
      "needs_background": "light"
     },
     "output_type": "display_data"
    }
   ],
   "source": [
    "name_fair = []\n",
    "frequency_fair = []\n",
    "for i in range(len(Fair_Combo)):\n",
    "    name_fair.append(''.join(str(e) for e in list(Fair_Combo.index[i])))\n",
    "    frequency_fair.append(Fair_Combo.values[i][0])\n",
    "\n",
    "name_unfair = []\n",
    "frequency_unfair = []\n",
    "for i in range(len(Unfair_Combo)):\n",
    "    name_unfair.append(''.join(str(e) for e in list(Unfair_Combo.index[i])))\n",
    "    frequency_unfair.append(Unfair_Combo.values[i][0])\n",
    "\n",
    "fig, ax = plt.subplots(2,figsize=(13,8))\n",
    "ax[0].bar(name_fair, frequency_fair,color='gray',edgecolor='black')\n",
    "ax[0].set(ylabel = 'Combination Frequency')\n",
    "ax[1].bar(name_unfair, frequency_unfair,color='gray',edgecolor='black')\n",
    "ax[1].set(ylabel = 'Combination Frequency')\n",
    "ax[1].set(xlabel = 'Rolled Face Combination')\n",
    "ax[0].set(title ='Frequency of Combinations in 100,000 rolls using Fair Dice')\n",
    "ax[1].set(title ='Frequency of Combinations in 100,000 rolls using 2 Type 1, 1 Type 2, and 2 Fair Dice')\n",
    "plt.show()"
   ]
  },
  {
   "cell_type": "markdown",
   "metadata": {},
   "source": [
    "## Scenario 3: Roman Alphabet"
   ]
  },
  {
   "cell_type": "code",
   "execution_count": 15,
   "metadata": {},
   "outputs": [],
   "source": [
    "import pandas as pd\n",
    "import numpy as np\n",
    "from montecarlo import Die, Game, Analyzer\n",
    "\n",
    "Alphabet = pd.read_csv('roman_alphabet.txt',delimiter='\\t',header=None,names=['Letter','Weight'])\n",
    "Alphabet['Letter'] = Alphabet['Letter'].astype('str')"
   ]
  },
  {
   "cell_type": "code",
   "execution_count": 16,
   "metadata": {},
   "outputs": [],
   "source": [
    "Die = Die(Alphabet['Letter'].tolist())\n",
    "\n",
    "for i in range(len(Alphabet)):\n",
    "    Die.change_weight(Alphabet['Letter'].iloc[i], Alphabet['Weight'].iloc[i])"
   ]
  },
  {
   "cell_type": "code",
   "execution_count": 17,
   "metadata": {},
   "outputs": [],
   "source": [
    "Game = Game([Die, Die, Die, Die, Die])\n",
    "Result_list = []\n",
    "for i in range(10):\n",
    "    rand_list = np.random.randint(1000,size=10)\n",
    "    Game.play(1000)\n",
    "    Result_list.append(Game.show().iloc[rand_list])\n",
    "    "
   ]
  },
  {
   "cell_type": "code",
   "execution_count": 18,
   "metadata": {},
   "outputs": [
    {
     "data": {
      "text/plain": [
       "[     Die #1 Die #2 Die #3 Die #4 Die #5\n",
       " Roll                                   \n",
       " 351       A      D      R      A      A\n",
       " 691       P      N      H      E      E\n",
       " 703       T      M      T      I      T\n",
       " 269       M      A      O      G      M\n",
       " 718       D      G      A      G      Y\n",
       " 45        A      S      I      X      E\n",
       " 982       T      A      F      D      E\n",
       " 710       A      L      N      F      E\n",
       " 132       I      S      S      P      H\n",
       " 153       O      I      O      R      R,\n",
       "      Die #1 Die #2 Die #3 Die #4 Die #5\n",
       " Roll                                   \n",
       " 580       L      I      U      S      T\n",
       " 897       T      U      E      A      C\n",
       " 831       C      I      I      O      I\n",
       " 925       P      V      S      A      O\n",
       " 411       X      U      N      R      O\n",
       " 71        D      W      N      T      D\n",
       " 333       T      Y      E      C      O\n",
       " 223       I      K      M      L      I\n",
       " 4         L      L      O      U      E\n",
       " 426       S      C      C      O      S,\n",
       "      Die #1 Die #2 Die #3 Die #4 Die #5\n",
       " Roll                                   \n",
       " 344       L      S      A      O      K\n",
       " 93        C      S      S      A      C\n",
       " 30        D      I      O      Z      W\n",
       " 878       H      L      A      T      I\n",
       " 207       I      Y      N      A      T\n",
       " 992       N      N      E      E      I\n",
       " 823       T      U      E      T      D\n",
       " 513       O      E      R      T      P\n",
       " 139       I      A      L      W      A\n",
       " 210       T      L      R      L      D,\n",
       "      Die #1 Die #2 Die #3 Die #4 Die #5\n",
       " Roll                                   \n",
       " 932       E      A      P      E      V\n",
       " 845       S      F      L      L      R\n",
       " 190       C      T      M      E      N\n",
       " 777       T      S      E      E      E\n",
       " 230       C      S      U      E      S\n",
       " 111       E      N      N      H      S\n",
       " 660       U      A      E      H      B\n",
       " 527       P      N      T      E      G\n",
       " 428       C      T      U      T      E\n",
       " 240       I      I      L      P      O,\n",
       "      Die #1 Die #2 Die #3 Die #4 Die #5\n",
       " Roll                                   \n",
       " 803       O      K      L      C      O\n",
       " 4         E      L      N      L      R\n",
       " 704       O      H      K      S      T\n",
       " 295       R      R      I      C      O\n",
       " 811       I      G      O      E      M\n",
       " 131       G      R      O      E      E\n",
       " 90        S      I      T      L      A\n",
       " 132       E      O      N      A      O\n",
       " 880       R      O      H      I      N\n",
       " 146       R      S      T      P      S,\n",
       "      Die #1 Die #2 Die #3 Die #4 Die #5\n",
       " Roll                                   \n",
       " 873       L      E      E      R      H\n",
       " 102       T      Y      C      G      A\n",
       " 789       N      G      E      V      O\n",
       " 5         U      C      R      N      T\n",
       " 697       T      I      L      O      L\n",
       " 786       O      M      U      W      E\n",
       " 334       T      V      R      I      L\n",
       " 528       C      E      B      E      M\n",
       " 902       T      I      T      E      N\n",
       " 398       R      E      E      Y      H,\n",
       "      Die #1 Die #2 Die #3 Die #4 Die #5\n",
       " Roll                                   \n",
       " 971       D      R      I      E      C\n",
       " 698       P      O      P      L      V\n",
       " 576       H      U      I      R      B\n",
       " 456       I      U      O      S      C\n",
       " 636       C      A      E      T      I\n",
       " 319       E      F      O      U      I\n",
       " 858       H      T      F      O      T\n",
       " 311       I      L      I      A      O\n",
       " 784       B      M      I      U      O\n",
       " 427       A      R      L      N      S,\n",
       "      Die #1 Die #2 Die #3 Die #4 Die #5\n",
       " Roll                                   \n",
       " 527       O      I      S      I      C\n",
       " 644       C      A      L      O      L\n",
       " 877       T      A      D      R      N\n",
       " 339       L      E      D      O      A\n",
       " 636       N      U      T      M      T\n",
       " 256       S      O      C      Y      C\n",
       " 636       N      U      T      M      T\n",
       " 855       L      L      I      T      P\n",
       " 333       O      O      M      R      R\n",
       " 619       H      E      D      I      W,\n",
       "      Die #1 Die #2 Die #3 Die #4 Die #5\n",
       " Roll                                   \n",
       " 102       A      S      N      A      Y\n",
       " 501       R      M      N      O      T\n",
       " 407       I      R      C      O      L\n",
       " 655       O      T      R      T      I\n",
       " 348       L      O      E      E      I\n",
       " 649       A      R      B      H      I\n",
       " 988       G      D      C      H      N\n",
       " 786       S      S      N      E      O\n",
       " 826       L      A      I      U      U\n",
       " 494       F      O      E      D      T,\n",
       "      Die #1 Die #2 Die #3 Die #4 Die #5\n",
       " Roll                                   \n",
       " 416       T      N      T      T      N\n",
       " 584       E      E      E      E      P\n",
       " 176       E      E      E      C      E\n",
       " 342       E      N      N      S      C\n",
       " 368       H      P      C      L      P\n",
       " 392       L      E      T      O      A\n",
       " 762       E      U      E      D      S\n",
       " 217       I      W      A      F      B\n",
       " 859       L      E      L      T      D\n",
       " 275       T      L      S      C      L]"
      ]
     },
     "execution_count": 18,
     "metadata": {},
     "output_type": "execute_result"
    }
   ],
   "source": [
    "Result_list"
   ]
  },
  {
   "cell_type": "markdown",
   "metadata": {},
   "source": [
    "I ran this 5 times and looked at 10 random samples of 10, for a total of 500 rolls. Across the 500 rolls, I found 65 words that sounded like English words. My criteria for selecting words was basically this: can I pronounce this word. If yes, I counted it, if no, then I didn't count it. Based on that criteria, the roman alphabet contains combinations of which approximately 13% sound like English words. "
   ]
  },
  {
   "cell_type": "markdown",
   "metadata": {},
   "source": [
    "# Directory Listing"
   ]
  },
  {
   "cell_type": "code",
   "execution_count": 19,
   "metadata": {},
   "outputs": [],
   "source": [
    "%reload_ext powershellmagic"
   ]
  },
  {
   "cell_type": "code",
   "execution_count": 20,
   "metadata": {},
   "outputs": [
    {
     "name": "stdout",
     "output_type": "stream",
     "text": [
      "\n",
      "\n",
      "    Directory: C:\\Users\\alexa\\DS-5100-Project-Repo\\Montecarlo\n",
      "\n",
      "\n",
      "Mode                 LastWriteTime         Length Name                                                                 \n",
      "----                 -------------         ------ ----                                                                 \n",
      "d-----         11/5/2022   5:27 PM                montecarlo                                                           \n",
      "d-----        11/21/2022  12:26 PM                montecarlo.egg-info                                                  \n",
      "d-----         11/5/2022   5:24 PM                tests                                                                \n",
      "-a----         11/5/2022   5:34 PM            464 setup.py                                                             \n",
      "\n",
      "\n",
      "    Directory: C:\\Users\\alexa\\DS-5100-Project-Repo\\Montecarlo\\montecarlo\n",
      "\n",
      "\n",
      "Mode                 LastWriteTime         Length Name                                                                 \n",
      "----                 -------------         ------ ----                                                                 \n",
      "d-----        11/21/2022  10:01 AM                __pycache__                                                          \n",
      "-a----        11/21/2022  10:00 AM           7937 montecarlo.py                                                        \n",
      "-a----         11/5/2022   5:32 PM             43 __init__.py                                                          \n",
      "\n",
      "\n",
      "    Directory: C:\\Users\\alexa\\DS-5100-Project-Repo\\Montecarlo\\montecarlo\\__pycache__\n",
      "\n",
      "\n",
      "Mode                 LastWriteTime         Length Name                                                                 \n",
      "----                 -------------         ------ ----                                                                 \n",
      "-a----         11/5/2022   5:28 PM           8808 montecarlo.cpython-310.pyc                                           \n",
      "-a----        11/21/2022  10:01 AM           8411 montecarlo.cpython-39.pyc                                            \n",
      "-a----         11/5/2022   5:32 PM            233 __init__.cpython-39.pyc                                              \n",
      "\n",
      "\n",
      "    Directory: C:\\Users\\alexa\\DS-5100-Project-Repo\\Montecarlo\\montecarlo.egg-info\n",
      "\n",
      "\n",
      "Mode                 LastWriteTime         Length Name                                                                 \n",
      "----                 -------------         ------ ----                                                                 \n",
      "-a----        11/21/2022  12:26 PM              1 dependency_links.txt                                                 \n",
      "-a----        11/21/2022  12:26 PM            350 PKG-INFO                                                             \n",
      "-a----        11/21/2022  12:26 PM             28 requires.txt                                                         \n",
      "-a----        11/21/2022  12:26 PM            225 SOURCES.txt                                                          \n",
      "-a----        11/21/2022  12:26 PM             11 top_level.txt                                                        \n",
      "\n",
      "\n",
      "    Directory: C:\\Users\\alexa\\DS-5100-Project-Repo\\Montecarlo\\tests\n",
      "\n",
      "\n",
      "Mode                 LastWriteTime         Length Name                                                                 \n",
      "----                 -------------         ------ ----                                                                 \n",
      "-a----        11/21/2022  10:14 AM           1670 montecarlo_results.txt                                               \n",
      "-a----         11/5/2022   5:09 PM           3324 montecarlo_test.py                                                   \n",
      "\n",
      "\n"
     ]
    }
   ],
   "source": [
    "%%powershell\n",
    "cd..\n",
    "cd Montecarlo\n",
    "Get-ChildItem -Recurse"
   ]
  },
  {
   "cell_type": "markdown",
   "metadata": {},
   "source": [
    "# Installation Output Listing"
   ]
  },
  {
   "cell_type": "code",
   "execution_count": 21,
   "metadata": {},
   "outputs": [
    {
     "name": "stdout",
     "output_type": "stream",
     "text": [
      "Obtaining file:///C:/Users/alexa/DS-5100-Project-Repo/Montecarlo\n",
      "Requirement already satisfied: pandas>=1.3.4 in c:\\users\\alexa\\anaconda3\\lib\\site-packages (from montecarlo==1.0.0) (1.3.4)\n",
      "Requirement already satisfied: numpy>=1.20.3 in c:\\users\\alexa\\anaconda3\\lib\\site-packages (from montecarlo==1.0.0) (1.20.3)\n",
      "Requirement already satisfied: pytz>=2017.3 in c:\\users\\alexa\\anaconda3\\lib\\site-packages (from pandas>=1.3.4->montecarlo==1.0.0) (2021.3)\n",
      "Requirement already satisfied: python-dateutil>=2.7.3 in c:\\users\\alexa\\anaconda3\\lib\\site-packages (from pandas>=1.3.4->montecarlo==1.0.0) (2.8.2)\n",
      "Requirement already satisfied: six>=1.5 in c:\\users\\alexa\\anaconda3\\lib\\site-packages (from python-dateutil>=2.7.3->pandas>=1.3.4->montecarlo==1.0.0) (1.16.0)\n",
      "Installing collected packages: montecarlo\n",
      "  Attempting uninstall: montecarlo\n",
      "    Found existing installation: montecarlo 1.0.0\n",
      "    Uninstalling montecarlo-1.0.0:\n",
      "      Successfully uninstalled montecarlo-1.0.0\n",
      "  Running setup.py develop for montecarlo\n",
      "Successfully installed montecarlo-1.0.0\n"
     ]
    }
   ],
   "source": [
    "%%powershell\n",
    "cd..\n",
    "cd Montecarlo\n",
    "pip install -e."
   ]
  },
  {
   "cell_type": "code",
   "execution_count": null,
   "metadata": {},
   "outputs": [],
   "source": []
  }
 ],
 "metadata": {
  "kernelspec": {
   "display_name": "Python 3 (ipykernel)",
   "language": "python",
   "name": "python3"
  },
  "language_info": {
   "codemirror_mode": {
    "name": "ipython",
    "version": 3
   },
   "file_extension": ".py",
   "mimetype": "text/x-python",
   "name": "python",
   "nbconvert_exporter": "python",
   "pygments_lexer": "ipython3",
   "version": "3.9.7"
  },
  "vscode": {
   "interpreter": {
    "hash": "277d713a2869ad522e0f58de96fa3cb2620734b34dd3b3afd7f1966d69d2580f"
   }
  }
 },
 "nbformat": 4,
 "nbformat_minor": 4
}
